{
 "cells": [
  {
   "cell_type": "code",
   "execution_count": 1,
   "metadata": {},
   "outputs": [],
   "source": [
    "import math\n",
    "#from copy import deepcopy"
   ]
  },
  {
   "cell_type": "code",
   "execution_count": 2,
   "metadata": {},
   "outputs": [],
   "source": [
    "class SnailfishBase:\n",
    "    def __new__(cls, value, parent=None):\n",
    "        submap = {int: SnailfishN, list: SnailfishP}\n",
    "        subclass = submap[type(value)]\n",
    "        return super(SnailfishBase, subclass).__new__(subclass)\n",
    "        \n",
    "    def __init__(self, parent=None):\n",
    "        self.parent = parent\n",
    "        self.lev = parent.lev + 1 if parent else 0\n",
    "    \n",
    "    def __add__(self, other):\n",
    "        new_root = SnailfishP([self, other])\n",
    "        # do I need to add non-roots? if so they should be children of the same parent\n",
    "        # new_parent should get parent=old_parent\n",
    "        self.parent = new_root\n",
    "        other.parent = new_root\n",
    "        self.level_up()\n",
    "        other.level_up()\n",
    "        new_root.reduce()\n",
    "        return new_root\n",
    "    \n",
    "    def __radd__(self, other):\n",
    "        if other == 0:\n",
    "            return self\n",
    "        else:\n",
    "            raise TypeError\n",
    "    \n",
    "    def reduce(self):\n",
    "        reduced = False\n",
    "        while not(reduced):\n",
    "            exploded = True\n",
    "            while exploded:\n",
    "                x = self.find_exploder()\n",
    "                if x is not None:\n",
    "                    x.explode()\n",
    "                else:\n",
    "                    exploded = False\n",
    "            s = self.find_splitter()\n",
    "            if s is not None:\n",
    "                s.split()\n",
    "            else:\n",
    "                reduced = True\n",
    "        \n",
    "\n",
    "class SnailfishN(SnailfishBase):\n",
    "    def __init__(self, value, parent=None):\n",
    "        super().__init__(parent)\n",
    "        self.value = value\n",
    "    \n",
    "    def level_up(self):\n",
    "        self.lev += 1\n",
    "    \n",
    "    def get_list(self):\n",
    "        return self.value\n",
    "    \n",
    "    def find_exploder(self):\n",
    "        return None\n",
    "    \n",
    "    def find_rightmostN(self):\n",
    "        return self\n",
    "    \n",
    "    def find_leftmostN(self):\n",
    "        return self\n",
    "    \n",
    "    def split(self):\n",
    "        values = [math.floor(self.value/2), math.ceil(self.value/2)]\n",
    "        new_child = SnailfishP(values, parent = self.parent)\n",
    "        if self.parent.left == self:\n",
    "            self.parent.left = new_child\n",
    "        else:\n",
    "            self.parent.right = new_child\n",
    "    \n",
    "    def find_splitter(self):\n",
    "        if self.value >= 10:\n",
    "            return self\n",
    "        return None\n",
    "    \n",
    "    def magnitude(self):\n",
    "        return self.value\n",
    "\n",
    "\n",
    "class SnailfishP(SnailfishBase):\n",
    "    def __init__(self, value, parent=None):\n",
    "        super().__init__(parent)\n",
    "        if issubclass(type(value[0]),SnailfishBase):\n",
    "            self.left = value[0]\n",
    "            self.right = value[1]\n",
    "        else:\n",
    "            self.left = SnailfishBase(value[0], parent=self)\n",
    "            self.right = SnailfishBase(value[1], parent=self)\n",
    "            # self.reduce() ? #no need, the input is reduced\n",
    "    \n",
    "    def level_up(self):\n",
    "        self.lev += 1\n",
    "        self.left.level_up()\n",
    "        self.right.level_up()\n",
    "    \n",
    "    def get_list(self):\n",
    "        return [self.left.get_list(), self.right.get_list()]\n",
    "    \n",
    "    def find_exploder(self):\n",
    "        if self.lev < 4:\n",
    "            return self.left.find_exploder() or self.right.find_exploder()\n",
    "        return self\n",
    "    \n",
    "    def find_rightmostN(self):\n",
    "        return self.right.find_rightmostN()\n",
    "    \n",
    "    def find_leftmostN(self):\n",
    "        return self.left.find_leftmostN()\n",
    "    \n",
    "    def find_regleft(self):\n",
    "        # find the first regular number (SnailfishN) to the left of the current node\n",
    "        # if there isn't one, return None\n",
    "        if self.parent is None:\n",
    "            return None\n",
    "        # if the current node is a right-child, find the rightmost child of its left-sibling\n",
    "        if self.parent.right == self:\n",
    "            return self.parent.left.find_rightmostN()\n",
    "        # otherwise, go up one level\n",
    "        return self.parent.find_regleft()\n",
    "    \n",
    "    def find_regright(self):\n",
    "        # find the first regular number (SnailfishN) to the right of the current node\n",
    "        # if there isn't one, return None\n",
    "        if self.parent is None:\n",
    "            return None\n",
    "        # if the current node is a left-child, find the leftmost child of its right-sibling\n",
    "        if self.parent.left == self:\n",
    "            return self.parent.right.find_leftmostN()\n",
    "        # otherwise, go up one level\n",
    "        return self.parent.find_regright()\n",
    "    \n",
    "    def explode(self):\n",
    "        # add the values to left and righ neighbours\n",
    "        ln, rn = self.find_regleft(), self.find_regright()\n",
    "        if ln is not None:\n",
    "            ln.value += self.left.value\n",
    "        if rn is not None:\n",
    "            rn.value += self.right.value\n",
    "        # replace current node with SnailfishN-zero\n",
    "        if self.parent.left == self:\n",
    "            self.parent.left = SnailfishN(0, parent=self.parent)\n",
    "        else:\n",
    "            self.parent.right = SnailfishN(0, parent=self.parent)\n",
    "    \n",
    "    def find_splitter(self):\n",
    "        return self.left.find_splitter() or self.right.find_splitter()\n",
    "    \n",
    "    def magnitude(self):\n",
    "        return 3*self.left.magnitude() + 2*self.right.magnitude()"
   ]
  },
  {
   "cell_type": "code",
   "execution_count": 3,
   "metadata": {},
   "outputs": [],
   "source": [
    "with open('day18.txt') as f:\n",
    "    data = [(eval(x)) for x in f]\n",
    "    \n",
    "snailnumbers = [SnailfishBase(d) for d in data]"
   ]
  },
  {
   "cell_type": "code",
   "execution_count": 4,
   "metadata": {},
   "outputs": [
    {
     "data": {
      "text/plain": [
       "[[[[7, 7], [8, 8]], [[8, 9], [7, 8]]], [[[6, 7], [0, 8]], [8, 8]]]"
      ]
     },
     "execution_count": 4,
     "metadata": {},
     "output_type": "execute_result"
    }
   ],
   "source": [
    "total = sum(SnailfishBase(d) for d in data)\n",
    "total.get_list()"
   ]
  },
  {
   "cell_type": "code",
   "execution_count": 5,
   "metadata": {},
   "outputs": [
    {
     "data": {
      "text/plain": [
       "3793"
      ]
     },
     "execution_count": 5,
     "metadata": {},
     "output_type": "execute_result"
    }
   ],
   "source": [
    "total.magnitude()"
   ]
  },
  {
   "cell_type": "code",
   "execution_count": 6,
   "metadata": {},
   "outputs": [
    {
     "name": "stdout",
     "output_type": "stream",
     "text": [
      "4695\n",
      "CPU times: user 3.15 s, sys: 3.64 ms, total: 3.15 s\n",
      "Wall time: 3.15 s\n"
     ]
    }
   ],
   "source": [
    "%%time\n",
    "maxmag = 0\n",
    "for s1 in data:\n",
    "    for s2 in data:\n",
    "        maxmag = max(maxmag, (SnailfishBase(s1)+SnailfishBase(s2)).magnitude())\n",
    "        \n",
    "print(maxmag)"
   ]
  }
 ],
 "metadata": {
  "kernelspec": {
   "display_name": "Python 3",
   "language": "python",
   "name": "python3"
  },
  "language_info": {
   "codemirror_mode": {
    "name": "ipython",
    "version": 3
   },
   "file_extension": ".py",
   "mimetype": "text/x-python",
   "name": "python",
   "nbconvert_exporter": "python",
   "pygments_lexer": "ipython3",
   "version": "3.8.10"
  }
 },
 "nbformat": 4,
 "nbformat_minor": 4
}
