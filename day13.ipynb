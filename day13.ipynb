{
 "cells": [
  {
   "cell_type": "code",
   "execution_count": 1,
   "metadata": {},
   "outputs": [],
   "source": [
    "import numpy as np\n",
    "import matplotlib.pyplot as plt"
   ]
  },
  {
   "cell_type": "code",
   "execution_count": 2,
   "metadata": {},
   "outputs": [],
   "source": [
    "with open('day13.txt') as f:\n",
    "    dots = []\n",
    "    commands = []\n",
    "    for line in f:\n",
    "        if line[0].isdigit():\n",
    "            dots.append(line.rstrip().split(','))\n",
    "        if line[0] == 'f':\n",
    "            commands.append(line[11]) #only need x or y\n",
    "\n",
    "dots = np.array(dots, dtype=int)"
   ]
  },
  {
   "cell_type": "code",
   "execution_count": 3,
   "metadata": {},
   "outputs": [],
   "source": [
    "class TPage:\n",
    "    def __init__(self, dots, commands = []):\n",
    "        shape = (max(dots[:,0])+1, max(dots[:,1])+1)\n",
    "        self.dots = np.zeros(shape, dtype=bool)\n",
    "        self.dots[tuple(dots.T)] = True\n",
    "        self.commands = commands.copy()\n",
    "    \n",
    "    @property\n",
    "    def ndots(self):\n",
    "        return np.count_nonzero(self.dots)\n",
    "    \n",
    "    @property\n",
    "    def shape(self):\n",
    "        return self.dots.shape\n",
    "    \n",
    "    def foldx(self):\n",
    "        ax = self.shape[0]//2\n",
    "        left, right = self.dots[:ax], self.dots[ax+1:]\n",
    "        self.dots = np.logical_or(left, right[::-1])\n",
    "        \n",
    "    def foldy(self):\n",
    "        ax = self.shape[1]//2\n",
    "        up, down = self.dots[:,:ax], self.dots[:,ax+1:]\n",
    "        self.dots = np.logical_or(up, down[:,::-1])\n",
    "        \n",
    "    def fold(self, d):\n",
    "        #print('folding '+d)\n",
    "        if d == 'x':\n",
    "            self.foldx()\n",
    "        if d == 'y':\n",
    "            self.foldy()\n",
    "            \n",
    "    def next(self):\n",
    "        self.fold(self.commands.pop(0))\n",
    "    \n",
    "    def run(self):\n",
    "        while len(self.commands) > 0:\n",
    "            self.next()\n",
    "    \n",
    "    def show(self):\n",
    "        plt.imshow(self.dots.T, origin='upper')\n",
    "    \n",
    "    def print(self):\n",
    "        for l in self.dots.T:\n",
    "            print(plothelp(l))\n",
    "        \n",
    "def plothelp(brow, t='0', f=' '):\n",
    "    line = ''\n",
    "    for b in brow:\n",
    "        if b:\n",
    "            line += t\n",
    "        else:\n",
    "            line += f\n",
    "    return line"
   ]
  },
  {
   "cell_type": "code",
   "execution_count": 4,
   "metadata": {},
   "outputs": [],
   "source": [
    "firstpage = TPage(dots, commands)"
   ]
  },
  {
   "cell_type": "code",
   "execution_count": 5,
   "metadata": {},
   "outputs": [
    {
     "data": {
      "text/plain": [
       "704"
      ]
     },
     "execution_count": 5,
     "metadata": {},
     "output_type": "execute_result"
    }
   ],
   "source": [
    "firstpage.next()\n",
    "firstpage.ndots"
   ]
  },
  {
   "cell_type": "code",
   "execution_count": 6,
   "metadata": {},
   "outputs": [],
   "source": [
    "firstpage.run()"
   ]
  },
  {
   "cell_type": "code",
   "execution_count": 7,
   "metadata": {},
   "outputs": [
    {
     "data": {
      "image/png": "[encoded data removed]",
      "text/plain": [
       "<Figure size 432x288 with 1 Axes>"
      ]
     },
     "metadata": {
      "needs_background": "light"
     },
     "output_type": "display_data"
    }
   ],
   "source": [
    "firstpage.show()"
   ]
  },
  {
   "cell_type": "code",
   "execution_count": 8,
   "metadata": {},
   "outputs": [
    {
     "name": "stdout",
     "output_type": "stream",
     "text": [
      "0  0  00   00    00 000  0000 0  0  00  \n",
      "0  0 0  0 0  0    0 0  0 0    0  0 0  0 \n",
      "0000 0    0  0    0 000  000  0000 0    \n",
      "0  0 0 00 0000    0 0  0 0    0  0 0    \n",
      "0  0 0  0 0  0 0  0 0  0 0    0  0 0  0 \n",
      "0  0  000 0  0  00  000  0000 0  0  00  \n"
     ]
    }
   ],
   "source": [
    "firstpage.print()"
   ]
  }
 ],
 "metadata": {
  "kernelspec": {
   "display_name": "Python 3",
   "language": "python",
   "name": "python3"
  },
  "language_info": {
   "codemirror_mode": {
    "name": "ipython",
    "version": 3
   },
   "file_extension": ".py",
   "mimetype": "text/x-python",
   "name": "python",
   "nbconvert_exporter": "python",
   "pygments_lexer": "ipython3",
   "version": "3.8.10"
  }
 },
 "nbformat": 4,
 "nbformat_minor": 4
}
