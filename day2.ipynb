{
 "cells": [
  {
   "cell_type": "code",
   "execution_count": 1,
   "metadata": {},
   "outputs": [],
   "source": [
    "import numpy as np"
   ]
  },
  {
   "cell_type": "code",
   "execution_count": 22,
   "metadata": {},
   "outputs": [],
   "source": [
    "data = np.loadtxt('day2.txt', delimiter=' ', dtype='U7, int')"
   ]
  },
  {
   "cell_type": "code",
   "execution_count": 35,
   "metadata": {},
   "outputs": [
    {
     "name": "stdout",
     "output_type": "stream",
     "text": [
      "1988 913\n"
     ]
    }
   ],
   "source": [
    "forward = np.array([d[1] for d in data if d[0]=='forward'])\n",
    "x = sum(forward)\n",
    "\n",
    "down = np.array([d[1] for d in data if d[0]=='down'])\n",
    "up = np.array([d[1] for d in data if d[0]=='up'])\n",
    "\n",
    "depth = sum(down)-sum(up)\n",
    "print(x, depth)"
   ]
  },
  {
   "cell_type": "code",
   "execution_count": 34,
   "metadata": {},
   "outputs": [
    {
     "name": "stdout",
     "output_type": "stream",
     "text": [
      "1815044\n"
     ]
    }
   ],
   "source": [
    "print(x*depth)"
   ]
  },
  {
   "cell_type": "code",
   "execution_count": 39,
   "metadata": {},
   "outputs": [
    {
     "name": "stdout",
     "output_type": "stream",
     "text": [
      "1815044\n"
     ]
    }
   ],
   "source": [
    "# alternative: pure python\n",
    "x = 0\n",
    "depth = 0\n",
    "\n",
    "with open('day2.txt') as file:\n",
    "    for line in file:\n",
    "        command, d = line.split()\n",
    "        d = int(d)\n",
    "#         match command:\n",
    "#             case 'forward':\n",
    "#                 x += d\n",
    "#             case 'up':\n",
    "#                 depth -= d\n",
    "#             case  'down':\n",
    "#                 depth += d\n",
    "# NEED PYTHON 3.10\n",
    "        if command=='forward':\n",
    "            x += d\n",
    "        if command=='up':\n",
    "            depth -= d\n",
    "        if command=='down':\n",
    "            depth += d\n",
    "print(x*depth)"
   ]
  },
  {
   "cell_type": "code",
   "execution_count": 40,
   "metadata": {},
   "outputs": [
    {
     "name": "stdout",
     "output_type": "stream",
     "text": [
      "1739283308\n"
     ]
    }
   ],
   "source": [
    "# part 2\n",
    "\n",
    "x = 0\n",
    "depth = 0\n",
    "aim = 0\n",
    "\n",
    "with open('day2.txt') as file:\n",
    "    for line in file:\n",
    "        command, d = line.split()\n",
    "        d = int(d)\n",
    "        if command=='forward':\n",
    "            x += d\n",
    "            depth += aim*d\n",
    "        if command=='up':\n",
    "            aim -= d\n",
    "        if command=='down':\n",
    "            aim += d\n",
    "print(x*depth)"
   ]
  },
  {
   "cell_type": "code",
   "execution_count": null,
   "metadata": {},
   "outputs": [],
   "source": []
  }
 ],
 "metadata": {
  "kernelspec": {
   "display_name": "Python 3",
   "language": "python",
   "name": "python3"
  },
  "language_info": {
   "codemirror_mode": {
    "name": "ipython",
    "version": 3
   },
   "file_extension": ".py",
   "mimetype": "text/x-python",
   "name": "python",
   "nbconvert_exporter": "python",
   "pygments_lexer": "ipython3",
   "version": "3.8.10"
  }
 },
 "nbformat": 4,
 "nbformat_minor": 4
}
