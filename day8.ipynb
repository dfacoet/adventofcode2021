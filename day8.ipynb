{
 "cells": [
  {
   "cell_type": "code",
   "execution_count": 1,
   "metadata": {},
   "outputs": [],
   "source": [
    "import numpy as np\n",
    "from collections import Counter"
   ]
  },
  {
   "cell_type": "code",
   "execution_count": 2,
   "metadata": {},
   "outputs": [],
   "source": [
    "num_lines = sum(1 for line in open('day8.txt'))\n",
    "\n",
    "outputs = np.zeros((num_lines,4), dtype='U7')\n",
    "signals = np.zeros((num_lines,10), dtype='U7')\n",
    "\n",
    "with open('day8.txt') as f:\n",
    "    for k, line in enumerate(f):\n",
    "        scrdigit, out = line.split(' | ')\n",
    "        outputs[k] = out.split()\n",
    "        signals[k] = scrdigit.split()"
   ]
  },
  {
   "cell_type": "code",
   "execution_count": 3,
   "metadata": {},
   "outputs": [
    {
     "name": "stdout",
     "output_type": "stream",
     "text": [
      "0 - len 6\n",
      "1 - len 2\n",
      "2 - len 5\n",
      "3 - len 5\n",
      "4 - len 4\n",
      "5 - len 5\n",
      "6 - len 6\n",
      "7 - len 3\n",
      "8 - len 7\n",
      "9 - len 6\n"
     ]
    }
   ],
   "source": [
    "clean = {\n",
    "    0: 'abcefg',\n",
    "    1: 'cf',\n",
    "    2: 'acdeg',\n",
    "    3: 'acdfg',\n",
    "    4: 'bcdf',\n",
    "    5: 'abdfg',\n",
    "    6: 'abdefg',\n",
    "    7: 'acf',\n",
    "    8: 'abcdefg',\n",
    "    9: 'abcdfg'\n",
    "}\n",
    "\n",
    "outkey = dict((v,k) for k,v in clean.items())\n",
    "\n",
    "for k in range(10):\n",
    "    print(f\"{k} - len {len(clean[k])}\")"
   ]
  },
  {
   "cell_type": "code",
   "execution_count": 4,
   "metadata": {},
   "outputs": [],
   "source": [
    "# part one: how many times do 1, 4, 7, 8 appear?\n",
    "# no need to decode: they have unique length (2,4,3,7)\n",
    "strlen = np.vectorize(lambda x: len(x))\n",
    "outlenghts = strlen(outputs)"
   ]
  },
  {
   "cell_type": "code",
   "execution_count": 5,
   "metadata": {},
   "outputs": [
    {
     "name": "stdout",
     "output_type": "stream",
     "text": [
      "473\n"
     ]
    }
   ],
   "source": [
    "n1 = np.sum(outlenghts == 2)\n",
    "n4 = np.sum(outlenghts == 4)\n",
    "n7 = np.sum(outlenghts == 3)\n",
    "n8 = np.sum(outlenghts == 7)\n",
    "\n",
    "print(n1+n4+n7+n8)"
   ]
  },
  {
   "cell_type": "code",
   "execution_count": 6,
   "metadata": {},
   "outputs": [],
   "source": [
    "#part two"
   ]
  },
  {
   "cell_type": "code",
   "execution_count": 53,
   "metadata": {},
   "outputs": [],
   "source": [
    "def decrypt(sig):\n",
    "    # Given the signals, return a dictionary mapping each letter to the correct segment.\n",
    "    # if a letter appears 4, 6, or 9 times in total, it maps to e, b, or f respectively.\n",
    "    # Two letters appear 7 or 8 times, and what they map to depends on whether they appear\n",
    "    # in the four-char signal.\n",
    "    four = sig[strlen(sig)==4][0]\n",
    "    allsig = ''.join(sig)\n",
    "    lc = Counter(allsig)\n",
    "    for k in lc:\n",
    "        v = lc[k]\n",
    "        if v == 4:\n",
    "            lc[k] = 'e'\n",
    "        elif v == 6:\n",
    "            lc[k] = 'b'\n",
    "        elif v == 9:\n",
    "            lc[k] = 'f'\n",
    "        elif v == 7:\n",
    "            if k in four:\n",
    "                lc[k] = 'd'\n",
    "            else:\n",
    "                lc[k] = 'g'\n",
    "        elif v == 8:\n",
    "            if k in four:\n",
    "                lc[k] = 'c'\n",
    "            else:\n",
    "                lc[k] = 'a'\n",
    "    return lc\n",
    "\n",
    "@np.vectorize\n",
    "def decode(ss, key):\n",
    "    return ''.join([key[c] for c in list(ss)])\n",
    "\n",
    "def cleanout2n(ostrings):\n",
    "    return np.array([outkey[''.join(sorted(s))] for s in ostrings[::-1]]) @ 10**np.arange(4)        "
   ]
  },
  {
   "cell_type": "code",
   "execution_count": 56,
   "metadata": {},
   "outputs": [],
   "source": [
    "display_out = np.zeros(num_lines, dtype=int)\n",
    "for k, (s, o) in enumerate(zip(signals, outputs)):\n",
    "    key = decrypt(s)\n",
    "    clean_out = decode(o, key)\n",
    "    display_out[k] = cleanout2n(clean_out)"
   ]
  },
  {
   "cell_type": "code",
   "execution_count": 57,
   "metadata": {},
   "outputs": [
    {
     "data": {
      "text/plain": [
       "1097568"
      ]
     },
     "execution_count": 57,
     "metadata": {},
     "output_type": "execute_result"
    }
   ],
   "source": [
    "sum(display_out)"
   ]
  },
  {
   "cell_type": "code",
   "execution_count": null,
   "metadata": {},
   "outputs": [],
   "source": []
  }
 ],
 "metadata": {
  "kernelspec": {
   "display_name": "Python 3",
   "language": "python",
   "name": "python3"
  },
  "language_info": {
   "codemirror_mode": {
    "name": "ipython",
    "version": 3
   },
   "file_extension": ".py",
   "mimetype": "text/x-python",
   "name": "python",
   "nbconvert_exporter": "python",
   "pygments_lexer": "ipython3",
   "version": "3.8.10"
  }
 },
 "nbformat": 4,
 "nbformat_minor": 4
}
