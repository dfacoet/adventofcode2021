{
 "cells": [
  {
   "cell_type": "code",
   "execution_count": 1,
   "metadata": {},
   "outputs": [],
   "source": [
    "import numpy as np"
   ]
  },
  {
   "cell_type": "code",
   "execution_count": 2,
   "metadata": {},
   "outputs": [],
   "source": [
    "data = np.genfromtxt('day11.txt', delimiter=1, dtype=int)"
   ]
  },
  {
   "cell_type": "code",
   "execution_count": 3,
   "metadata": {},
   "outputs": [],
   "source": [
    "class Octogrid:\n",
    "    def __init__(self, grid):\n",
    "        self.energies = np.asarray(grid, dtype=int)\n",
    "        self.lx, self.ly = self.energies.shape\n",
    "        self.totflashed = 0\n",
    "        self.ntot = self.lx * self.ly\n",
    "    \n",
    "    def step(self, add_totflashed = False, update = False):\n",
    "        en = np.copy(self.energies)\n",
    "        en += 1\n",
    "        qx, qy = np.where(en>9)\n",
    "        qx = list(qx)\n",
    "        qy = list(qy)\n",
    "        hasflashed = np.zeros_like(en, dtype=bool)\n",
    "        nflashed = 0\n",
    "        while len(qx)>0:\n",
    "            x, y = qx.pop(), qy.pop()\n",
    "            for nx, ny in self.neighbours(x,y):\n",
    "                if not(hasflashed[nx,ny]):\n",
    "                    en[nx,ny] += 1\n",
    "                if en[nx,ny]==10:\n",
    "                    qx.append(nx)\n",
    "                    qy.append(ny)\n",
    "            hasflashed[x,y] = True\n",
    "            en[x,y] = 0\n",
    "            nflashed += 1\n",
    "        \n",
    "        if add_totflashed:\n",
    "            self.totflashed += nflashed\n",
    "        if update:\n",
    "            self.energies = en\n",
    "        return en, nflashed\n",
    "    \n",
    "    def nsteps(self, n, add_totflashed=False, update=False):\n",
    "        nflashed = 0\n",
    "        if not(update):\n",
    "            en = np.copy(self.energies)\n",
    "        for _ in range(n):\n",
    "            newen, nf = self.step(add_totflashed, update=True)\n",
    "            nflashed += nf\n",
    "        if not(update):\n",
    "            self.energies = en\n",
    "        return newen, nflashed\n",
    "    \n",
    "    def first_sync(self, add_totflashed=False, update=False):\n",
    "        ns = 0\n",
    "        hassynced = False\n",
    "        if not(update):\n",
    "            en = np.copy(self.energies)\n",
    "        while not(hassynced):\n",
    "            ns += 1\n",
    "            newen, nflashed = self.step(add_totflashed, update=True)\n",
    "            if nflashed == self.ntot:\n",
    "                hassynced = True\n",
    "        if not(update):\n",
    "            self.energies = en\n",
    "        return ns\n",
    "    \n",
    "    def neighbours(self, x, y):\n",
    "        nei = []\n",
    "        if x>0:\n",
    "            nei.append([x-1,y])\n",
    "            if y>0:\n",
    "                nei.append([x-1, y-1])\n",
    "            if y<self.ly-1:\n",
    "                nei.append([x-1, y+1])\n",
    "        if x<self.lx-1:\n",
    "            nei.append([x+1,y])\n",
    "            if y>0:\n",
    "                nei.append([x+1, y-1])\n",
    "            if y<self.lx-1:\n",
    "                nei.append([x+1, y+1])\n",
    "        if y>0:\n",
    "            nei.append([x,y-1])\n",
    "        if y<self.ly-1:\n",
    "            nei.append([x,y+1])\n",
    "        return nei"
   ]
  },
  {
   "cell_type": "code",
   "execution_count": 4,
   "metadata": {},
   "outputs": [],
   "source": [
    "octopi = Octogrid(data)"
   ]
  },
  {
   "cell_type": "code",
   "execution_count": 5,
   "metadata": {},
   "outputs": [
    {
     "data": {
      "text/plain": [
       "(array([[1, 6, 5, 5, 6, 8, 1, 1, 1, 8],\n",
       "        [6, 6, 5, 6, 8, 1, 1, 1, 1, 1],\n",
       "        [5, 5, 5, 7, 1, 1, 1, 1, 1, 1],\n",
       "        [5, 5, 5, 8, 1, 1, 1, 1, 1, 1],\n",
       "        [5, 5, 5, 8, 1, 1, 1, 1, 1, 1],\n",
       "        [5, 5, 5, 8, 1, 1, 9, 1, 1, 1],\n",
       "        [5, 5, 5, 8, 1, 1, 8, 1, 1, 1],\n",
       "        [5, 5, 5, 8, 1, 9, 1, 1, 1, 1],\n",
       "        [5, 5, 5, 8, 1, 1, 1, 1, 2, 2],\n",
       "        [9, 5, 5, 7, 1, 1, 1, 1, 2, 0]]),\n",
       " 1601)"
      ]
     },
     "execution_count": 5,
     "metadata": {},
     "output_type": "execute_result"
    }
   ],
   "source": [
    "octopi.nsteps(100)"
   ]
  },
  {
   "cell_type": "code",
   "execution_count": 6,
   "metadata": {},
   "outputs": [
    {
     "data": {
      "text/plain": [
       "368"
      ]
     },
     "execution_count": 6,
     "metadata": {},
     "output_type": "execute_result"
    }
   ],
   "source": [
    "octopi.first_sync()"
   ]
  },
  {
   "cell_type": "code",
   "execution_count": null,
   "metadata": {},
   "outputs": [],
   "source": []
  }
 ],
 "metadata": {
  "kernelspec": {
   "display_name": "Python 3",
   "language": "python",
   "name": "python3"
  },
  "language_info": {
   "codemirror_mode": {
    "name": "ipython",
    "version": 3
   },
   "file_extension": ".py",
   "mimetype": "text/x-python",
   "name": "python",
   "nbconvert_exporter": "python",
   "pygments_lexer": "ipython3",
   "version": "3.8.10"
  }
 },
 "nbformat": 4,
 "nbformat_minor": 4
}
