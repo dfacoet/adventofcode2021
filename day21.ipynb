{
 "cells": [
  {
   "cell_type": "markdown",
   "metadata": {},
   "source": [
    "Player 1 starting position: 6\n",
    "Player 2 starting position: 9"
   ]
  },
  {
   "cell_type": "code",
   "execution_count": 1,
   "metadata": {},
   "outputs": [],
   "source": [
    "class DeterministicDie:\n",
    "    def __init__(self):\n",
    "        self.k = -3\n",
    "    \n",
    "    def __iter__(self):\n",
    "        return self\n",
    "    \n",
    "    def __next__(self):\n",
    "        self.k = self.k+3\n",
    "        return 3+self.k % 100+(self.k+1) % 100+(self.k+2) % 100\n",
    "    \n",
    "    @property\n",
    "    def nrolls(self):\n",
    "        return 3+self.k"
   ]
  },
  {
   "cell_type": "code",
   "execution_count": 2,
   "metadata": {
    "tags": []
   },
   "outputs": [
    {
     "name": "stdout",
     "output_type": "stream",
     "text": [
      "1006 921 1005\n",
      "925605\n"
     ]
    }
   ],
   "source": [
    "x = 6 - 1\n",
    "y = 9 - 1\n",
    "sx = 0\n",
    "sy = 0\n",
    "\n",
    "die = DeterministicDie()\n",
    "k = 0\n",
    "while sy < 1000:\n",
    "    k += 1\n",
    "    x = (x + next(die)) % 10\n",
    "    sx += (x+1)\n",
    "    if sx>=1000:\n",
    "        break\n",
    "    y = (y + next(die)) % 10\n",
    "    sy += (y+1)\n",
    "    \n",
    "\n",
    "print(sx,sy,die.nrolls)\n",
    "\n",
    "print(min(sx,sy)*die.nrolls)"
   ]
  },
  {
   "cell_type": "code",
   "execution_count": 3,
   "metadata": {},
   "outputs": [],
   "source": [
    "from functools import lru_cache"
   ]
  },
  {
   "cell_type": "code",
   "execution_count": 4,
   "metadata": {},
   "outputs": [],
   "source": [
    "rolls = list(zip([3, 4, 5, 6, 7, 8, 9], [1, 3, 6, 7, 6, 3, 1]))\n",
    "\n",
    "@lru_cache\n",
    "def roll(x, y, sx, sy, turn, swin):\n",
    "    # x,y: current positions\n",
    "    # sx, sy: current scores\n",
    "    # turn: bool - is it p1's turn?\n",
    "    # returns a tuple (nwx, nwy) counting in how many sub-universes of this p1 and p2 win respectively\n",
    "    if sx >= swin:\n",
    "        return 1, 0\n",
    "    if sy >= swin:\n",
    "        return 0, 1\n",
    "    \n",
    "    nwx = 0\n",
    "    nwy = 0\n",
    "    \n",
    "    for d, mult in rolls:\n",
    "        nx, ny, nsx, nsy = x, y, sx, sy\n",
    "        if turn:\n",
    "            nx = (x + d) % 10\n",
    "            nsx = sx + nx + 1\n",
    "        else:\n",
    "            ny = (y + d) % 10\n",
    "            nsy = sy + ny + 1\n",
    "        sub_wins = roll(nx, ny, nsx, nsy, not turn, swin)\n",
    "        nwx += mult * sub_wins[0]\n",
    "        nwy += mult * sub_wins[1]\n",
    "    \n",
    "    return nwx, nwy\n",
    "\n",
    "def dirac(x0, y0, swin=21):\n",
    "    roll.cache_clear()\n",
    "    return roll(x0-1, y0-1, 0, 0, True, swin)"
   ]
  },
  {
   "cell_type": "code",
   "execution_count": 5,
   "metadata": {},
   "outputs": [
    {
     "name": "stdout",
     "output_type": "stream",
     "text": [
      "CPU times: user 1min 1s, sys: 51.2 ms, total: 1min 1s\n",
      "Wall time: 1min 1s\n"
     ]
    }
   ],
   "source": [
    "%%time\n",
    "\n",
    "xw, yw = dirac(6, 9)"
   ]
  },
  {
   "cell_type": "code",
   "execution_count": 6,
   "metadata": {},
   "outputs": [
    {
     "name": "stdout",
     "output_type": "stream",
     "text": [
      "486638407378784 413013330504401\n",
      "486638407378784\n"
     ]
    }
   ],
   "source": [
    "print(xw, yw)\n",
    "print(max(xw, yw))"
   ]
  },
  {
   "cell_type": "markdown",
   "metadata": {},
   "source": [
    "### Note on part 1\n",
    "The (zero-indexed) $k$-th single roll of the deterministic dice is $s_k = 1 + (k \\mod 100)$.\n",
    "\n",
    "The $k$-th composite roll is effectively $\\displaystyle r_k = \\sum_{j=3k}^{3k+2} s_k \\mod 10 = (9k+6) \\mod 10 = (6-k) \\mod 10$. Each roll is one less than the previous one, starting at $6$.\n",
    "\n",
    "From now on all numbers are taken to be modulo 10, except the scores. We rescale the positions of the players by one, so that they respect modulo 10 arithmetic. The score increases by one extra point on each turn\n",
    "\n",
    "The first player gets the even increments, moving with velocity $v_k = 8-2k$, while the second player gets $w_k = 7-2k$.\n",
    "After $k$ turns the players have position $x_k = x_0+7k-k^2$, $y_k = y_0+6k-k^2$."
   ]
  },
  {
   "cell_type": "code",
   "execution_count": 7,
   "metadata": {},
   "outputs": [],
   "source": [
    "x0 = 5\n",
    "y0 = 8\n",
    "\n",
    "x = lambda k: (x0+7*k-k**2)%10\n",
    "y = lambda k: (y0+6*k-k**2)%10"
   ]
  },
  {
   "cell_type": "code",
   "execution_count": 8,
   "metadata": {},
   "outputs": [
    {
     "name": "stdout",
     "output_type": "stream",
     "text": [
      "1006 921 1005\n",
      "925605\n"
     ]
    }
   ],
   "source": [
    "k = 0\n",
    "sx = 0\n",
    "sy = 0\n",
    "\n",
    "while sy<1000:\n",
    "    k += 1\n",
    "    sx += 1+x(k)\n",
    "    if sx >= 1000:\n",
    "        break\n",
    "    sy += 1+y(k)\n",
    "\n",
    "\n",
    "nrolls = k*6 if sx<sy else k*6-3\n",
    "\n",
    "print(sx,sy,nrolls)\n",
    "\n",
    "print(min(sx,sy)*nrolls)"
   ]
  }
 ],
 "metadata": {
  "kernelspec": {
   "display_name": "Python 3",
   "language": "python",
   "name": "python3"
  },
  "language_info": {
   "codemirror_mode": {
    "name": "ipython",
    "version": 3
   },
   "file_extension": ".py",
   "mimetype": "text/x-python",
   "name": "python",
   "nbconvert_exporter": "python",
   "pygments_lexer": "ipython3",
   "version": "3.8.10"
  }
 },
 "nbformat": 4,
 "nbformat_minor": 4
}
