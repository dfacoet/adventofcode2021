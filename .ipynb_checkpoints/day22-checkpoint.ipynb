{
 "cells": [
  {
   "cell_type": "code",
   "execution_count": 133,
   "metadata": {},
   "outputs": [],
   "source": [
    "import itertools\n",
    "import re\n",
    "import numpy as np"
   ]
  },
  {
   "cell_type": "code",
   "execution_count": 134,
   "metadata": {},
   "outputs": [],
   "source": [
    "class Cuboid:\n",
    "    def __init__(self, lims):\n",
    "        self.lims = lims"
   ]
  },
  {
   "cell_type": "code",
   "execution_count": 131,
   "metadata": {},
   "outputs": [],
   "source": [
    "onoffint = {'on': 1, \"off\": 0}\n",
    "\n",
    "instructions = []\n",
    "cuboids = []\n",
    "\n",
    "with open(\"day22.txt\") as f:\n",
    "    for l in f.readlines():\n",
    "        inst, zone = l.split(' ')\n",
    "        instructions.append(onoffint[inst])\n",
    "        cuboids.append([int(x) for x in re.findall(r'[-+]?\\d+', zone)])\n",
    "\n",
    "bootcuboids = np.array(cuboids).reshape(len(instructions),3,2)\n",
    "\n",
    "#reactor = Core(instructions, cuboids)"
   ]
  },
  {
   "cell_type": "code",
   "execution_count": null,
   "metadata": {},
   "outputs": [],
   "source": []
  }
 ],
 "metadata": {
  "kernelspec": {
   "display_name": "Python 3",
   "language": "python",
   "name": "python3"
  },
  "language_info": {
   "codemirror_mode": {
    "name": "ipython",
    "version": 3
   },
   "file_extension": ".py",
   "mimetype": "text/x-python",
   "name": "python",
   "nbconvert_exporter": "python",
   "pygments_lexer": "ipython3",
   "version": "3.8.10"
  }
 },
 "nbformat": 4,
 "nbformat_minor": 4
}
