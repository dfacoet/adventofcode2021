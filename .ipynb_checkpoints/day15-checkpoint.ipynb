{
 "cells": [
  {
   "cell_type": "code",
   "execution_count": 1,
   "metadata": {},
   "outputs": [],
   "source": [
    "from functools import cached_property\n",
    "import numpy as np\n",
    "import networkx as nx"
   ]
  },
  {
   "cell_type": "code",
   "execution_count": 2,
   "metadata": {},
   "outputs": [],
   "source": [
    "weights = np.genfromtxt('day15.txt', delimiter=1, dtype=int)"
   ]
  },
  {
   "cell_type": "code",
   "execution_count": 3,
   "metadata": {},
   "outputs": [],
   "source": [
    "class Directed2D:\n",
    "    def __init__(self, weights):\n",
    "        self.weights = weights\n",
    "        self.lx, self.ly = weights.shape\n",
    "        self.create_grid()\n",
    "        \n",
    "    def create_grid(self):\n",
    "        self.grid = nx.DiGraph()\n",
    "        lx, ly = self.weights.shape\n",
    "        for x in range(self.lx):\n",
    "            for y in range(self.ly):\n",
    "                self.grid.add_node((x,y))\n",
    "        for x in range(self.lx):\n",
    "            for y in range(self.ly):\n",
    "                if x < self.lx-1:\n",
    "                    self.grid.add_edge((x,y),(x+1,y), risk=self.weights[x+1,y])\n",
    "                if x > 0:\n",
    "                    self.grid.add_edge((x,y),(x-1,y), risk=self.weights[x-1,y])\n",
    "                if y < self.ly-1:\n",
    "                    self.grid.add_edge((x,y),(x,y+1), risk=self.weights[x,y+1])\n",
    "                if y > 0:\n",
    "                    self.grid.add_edge((x,y),(x,y-1), risk=self.weights[x,y-1])\n",
    "\n",
    "    def find_safest_path(self):\n",
    "        start = (0,0)\n",
    "        end = (self.lx-1, self.ly-1)\n",
    "        return nx.shortest_path(self.grid, start, end, weight='risk')\n",
    "    \n",
    "    def path_weight(self, path):\n",
    "        return self.weights[tuple(np.array(path).T)].sum()-self.weights[path[0]]\n",
    "    \n",
    "    def safest_path_risk(self):\n",
    "        return self.path_weight(self.find_safest_path())\n",
    "    \n",
    "    def augment(self, sgrid=(5,5)):\n",
    "        weights = np.block([[(sx+sy+self.weights) % 9 for sy in range(sgrid[1])] for sx in range(sgrid[0])])\n",
    "        weights[weights==0] = 9\n",
    "        return Directed2D(weights)"
   ]
  },
  {
   "cell_type": "code",
   "execution_count": 4,
   "metadata": {},
   "outputs": [],
   "source": [
    "cavefloor = Directed2D(weights)"
   ]
  },
  {
   "cell_type": "code",
   "execution_count": 5,
   "metadata": {},
   "outputs": [
    {
     "data": {
      "text/plain": [
       "373"
      ]
     },
     "execution_count": 5,
     "metadata": {},
     "output_type": "execute_result"
    }
   ],
   "source": [
    "cavefloor.safest_path_risk()"
   ]
  },
  {
   "cell_type": "code",
   "execution_count": 6,
   "metadata": {},
   "outputs": [],
   "source": [
    "largecavefloor = cavefloor.augment()"
   ]
  },
  {
   "cell_type": "code",
   "execution_count": 7,
   "metadata": {},
   "outputs": [
    {
     "data": {
      "text/plain": [
       "2868"
      ]
     },
     "execution_count": 7,
     "metadata": {},
     "output_type": "execute_result"
    }
   ],
   "source": [
    "largecavefloor.safest_path_risk()"
   ]
  }
 ],
 "metadata": {
  "kernelspec": {
   "display_name": "Python 3",
   "language": "python",
   "name": "python3"
  },
  "language_info": {
   "codemirror_mode": {
    "name": "ipython",
    "version": 3
   },
   "file_extension": ".py",
   "mimetype": "text/x-python",
   "name": "python",
   "nbconvert_exporter": "python",
   "pygments_lexer": "ipython3",
   "version": "3.8.10"
  }
 },
 "nbformat": 4,
 "nbformat_minor": 4
}
