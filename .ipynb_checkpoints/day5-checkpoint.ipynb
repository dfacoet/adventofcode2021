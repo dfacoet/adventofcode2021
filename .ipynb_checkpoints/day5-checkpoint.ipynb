{
 "cells": [
  {
   "cell_type": "code",
   "execution_count": 1,
   "metadata": {},
   "outputs": [],
   "source": [
    "import numpy as np"
   ]
  },
  {
   "cell_type": "code",
   "execution_count": 2,
   "metadata": {},
   "outputs": [],
   "source": [
    "def isorthogonal(ep):\n",
    "    return (ep[0]==ep[2] or ep[1]==ep[3])\n",
    "\n",
    "def orthlinefromendpoints(xxyy):\n",
    "    x1, y1, x2, y2 = xxyy\n",
    "    if x1==x2:\n",
    "        y1, y2 = min(y1,y2), max(y1,y2)\n",
    "        return np.array([x1]*(y2+1-y1)), np.arange(y1,y2+1)\n",
    "    if y1==y2:\n",
    "        x1, x2 = min(x1,x2), max(x1,x2)\n",
    "        return np.arange(x1,x2+1), np.array([y1]*(x2+1-x1))\n",
    "    return False\n",
    "\n",
    "def ordrange(x1, x2):\n",
    "    if x1 <= x2:\n",
    "        return np.arange(x1, x2+1)\n",
    "    return np.arange(x1, x2-1, -1)\n",
    "\n",
    "def diaglinefromendpoints(xxyy):\n",
    "    x1, y1, x2, y2 = xxyy\n",
    "    if x1!=x2 and y1!=y2:\n",
    "        return ordrange(x1,x2), ordrange(y1,y2)\n",
    "    return False"
   ]
  },
  {
   "cell_type": "code",
   "execution_count": 3,
   "metadata": {},
   "outputs": [],
   "source": [
    "inputfile = 'day5.txt'\n",
    "num_lines = sum(1 for line in open(inputfile))\n",
    "\n",
    "data = np.zeros((num_lines,4),dtype=int)\n",
    "with open(inputfile) as f:\n",
    "    for k, line in enumerate(f):\n",
    "        data[k] = [fl for ss in line.split(' -> ') for fl in ss.split(',')]\n",
    "\n",
    "maxx = np.amax(data[:,[0,2]])\n",
    "maxy = np.amax(data[:,[1,3]])\n",
    "\n",
    "grid = np.zeros((maxx+1,maxy+1), dtype=int)"
   ]
  },
  {
   "cell_type": "code",
   "execution_count": 4,
   "metadata": {},
   "outputs": [],
   "source": [
    "for xxyy in data:\n",
    "    grid[orthlinefromendpoints(xxyy)] += 1"
   ]
  },
  {
   "cell_type": "code",
   "execution_count": 5,
   "metadata": {},
   "outputs": [
    {
     "data": {
      "text/plain": [
       "5197"
      ]
     },
     "execution_count": 5,
     "metadata": {},
     "output_type": "execute_result"
    }
   ],
   "source": [
    "np.count_nonzero(grid>=2)"
   ]
  },
  {
   "cell_type": "code",
   "execution_count": 6,
   "metadata": {},
   "outputs": [],
   "source": [
    "for xxyy in data:\n",
    "    grid[diaglinefromendpoints(xxyy)] += 1"
   ]
  },
  {
   "cell_type": "code",
   "execution_count": 7,
   "metadata": {},
   "outputs": [
    {
     "data": {
      "text/plain": [
       "18605"
      ]
     },
     "execution_count": 7,
     "metadata": {},
     "output_type": "execute_result"
    }
   ],
   "source": [
    "np.count_nonzero(grid>=2)"
   ]
  },
  {
   "cell_type": "code",
   "execution_count": null,
   "metadata": {},
   "outputs": [],
   "source": []
  }
 ],
 "metadata": {
  "kernelspec": {
   "display_name": "Python 3",
   "language": "python",
   "name": "python3"
  },
  "language_info": {
   "codemirror_mode": {
    "name": "ipython",
    "version": 3
   },
   "file_extension": ".py",
   "mimetype": "text/x-python",
   "name": "python",
   "nbconvert_exporter": "python",
   "pygments_lexer": "ipython3",
   "version": "3.8.10"
  }
 },
 "nbformat": 4,
 "nbformat_minor": 4
}
