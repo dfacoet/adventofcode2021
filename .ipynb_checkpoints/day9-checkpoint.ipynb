{
 "cells": [
  {
   "cell_type": "code",
   "execution_count": 1,
   "metadata": {},
   "outputs": [],
   "source": [
    "import numpy as np"
   ]
  },
  {
   "cell_type": "code",
   "execution_count": 39,
   "metadata": {},
   "outputs": [],
   "source": [
    "cavefloor = np.genfromtxt('day9.txt', delimiter=1, dtype=int)"
   ]
  },
  {
   "cell_type": "code",
   "execution_count": 78,
   "metadata": {},
   "outputs": [],
   "source": [
    "def neighbours(x, y, lx, ly):\n",
    "    nei = []\n",
    "    if x>0:\n",
    "        nei.append([x-1,y])\n",
    "    if x<lx-1:\n",
    "        nei.append([x+1,y])\n",
    "    if y>0:\n",
    "        nei.append([x,y-1])\n",
    "    if y<ly-1:\n",
    "        nei.append([x,y+1])\n",
    "    return tuple(np.array(nei).T)\n",
    "    \n",
    "\n",
    "\n",
    "def lowpoints(landscape):\n",
    "    lx, ly = landscape.shape\n",
    "    lp = []\n",
    "    for x in range(lx):\n",
    "        for y in range(ly):\n",
    "            if np.all(landscape[x,y]<landscape[neighbours(x,y,lx,ly)]):\n",
    "                lp.append([x,y])\n",
    "    return tuple(np.array(lp).T)"
   ]
  },
  {
   "cell_type": "code",
   "execution_count": 122,
   "metadata": {},
   "outputs": [
    {
     "data": {
      "text/plain": [
       "570"
      ]
     },
     "execution_count": 122,
     "metadata": {},
     "output_type": "execute_result"
    }
   ],
   "source": [
    "minima = lowpoints(cavefloor)\n",
    "(cavefloor[minima]+1).sum()"
   ]
  },
  {
   "cell_type": "code",
   "execution_count": 116,
   "metadata": {},
   "outputs": [],
   "source": [
    "def mapbasin(lowpoint, landscape):\n",
    "    lx, ly = landscape.shape\n",
    "    basin = [lowpoint]\n",
    "    queue = [lowpoint]\n",
    "    while len(queue) > 0:\n",
    "        x, y = queue.pop()\n",
    "        for newsite in zip(*neighbours(x,y,lx,ly)):\n",
    "            if newsite not in basin and cavefloor[newsite] < 9:\n",
    "                basin.append(newsite)\n",
    "                queue.append(newsite)\n",
    "    return basin"
   ]
  },
  {
   "cell_type": "code",
   "execution_count": 117,
   "metadata": {},
   "outputs": [
    {
     "data": {
      "text/plain": [
       "[(0, 9), (1, 9), (0, 8), (0, 10), (1, 8), (0, 7)]"
      ]
     },
     "execution_count": 117,
     "metadata": {},
     "output_type": "execute_result"
    }
   ],
   "source": [
    "mapbasin((0,9),cavefloor)"
   ]
  },
  {
   "cell_type": "code",
   "execution_count": 138,
   "metadata": {},
   "outputs": [],
   "source": [
    "basinsizes = np.array([len(mapbasin(m, cavefloor)) for m in zip(*minima)], dtype=int)\n",
    "\n",
    "largest3 = np.sort(basinsizes)[-3:]"
   ]
  },
  {
   "cell_type": "code",
   "execution_count": 140,
   "metadata": {},
   "outputs": [
    {
     "data": {
      "text/plain": [
       "899392"
      ]
     },
     "execution_count": 140,
     "metadata": {},
     "output_type": "execute_result"
    }
   ],
   "source": [
    "np.prod(largest3)"
   ]
  }
 ],
 "metadata": {
  "kernelspec": {
   "display_name": "Python 3",
   "language": "python",
   "name": "python3"
  },
  "language_info": {
   "codemirror_mode": {
    "name": "ipython",
    "version": 3
   },
   "file_extension": ".py",
   "mimetype": "text/x-python",
   "name": "python",
   "nbconvert_exporter": "python",
   "pygments_lexer": "ipython3",
   "version": "3.8.10"
  }
 },
 "nbformat": 4,
 "nbformat_minor": 4
}
