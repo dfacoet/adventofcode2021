{
 "cells": [
  {
   "cell_type": "code",
   "execution_count": 13,
   "metadata": {},
   "outputs": [],
   "source": [
    "from functools import lru_cache\n",
    "import math\n",
    "import numpy as np"
   ]
  },
  {
   "cell_type": "code",
   "execution_count": 155,
   "metadata": {},
   "outputs": [],
   "source": [
    "def sign(x):\n",
    "    try:\n",
    "        return x//abs(x)\n",
    "    except ZeroDivisionError:\n",
    "        return 0\n",
    "\n",
    "@lru_cache # @cache for Python>3.9\n",
    "def kbound(v, c):\n",
    "    return 1/2+v-sign(c)*math.sqrt((v+0.5)**2-2*c)\n",
    "\n",
    "@lru_cache\n",
    "def vbound(c):\n",
    "    return (1+math.sqrt(1+8*c))/2\n",
    "\n",
    "pos = lambda v,k: k*v-k*(k-1)//2\n",
    "\n",
    "def ranges_intersect(r1, r2):\n",
    "    r1, r2 = \n",
    "    if r1[0] > r2[0]:\n",
    "        r1, r2 = r2, r1\n",
    "    return r2[0] <= r1[1]"
   ]
  },
  {
   "cell_type": "code",
   "execution_count": 156,
   "metadata": {},
   "outputs": [],
   "source": [
    "xl, xr = 257, 286\n",
    "yd, yu = -101, -57\n",
    "\n",
    "vymin = yd # if initial vy is more negative, y1 goes below the target\n",
    "vymax = abs(yd) # if initial vy is greater than this, the first negative yk goes below the target\n",
    "vxmin = math.ceil(vbound(xl)) # minimum vx such that xmax is in the target\n",
    "vxb = math.floor(vbound(xr)) # maximum vx such that xmax is in the target\n",
    "vxmax = xr # maximumx vx such that x1 is in the target\n",
    "\n",
    "def kybounds(vy):\n",
    "    return [math.ceil(kbound(vy, yu)), math.floor(kbound(vy,yd))]\n",
    "\n",
    "def kxbounds(vx):\n",
    "    kmin = math.ceil(kbound(vx, xl))\n",
    "    kmax = math.inf if vx <= vxb else math.floor(kbound(vx,xr)) \n",
    "    return [kmin, kmax]"
   ]
  },
  {
   "cell_type": "code",
   "execution_count": 157,
   "metadata": {},
   "outputs": [],
   "source": [
    "allowed_vy = []\n",
    "vykbounds = []\n",
    "allowed_vx = []\n",
    "vxkbounds = []\n",
    "\n",
    "for vy in range(vymin, vymax+1):\n",
    "    kbounds = kybounds(vy)\n",
    "    if kbounds[0] <= kbounds[1]:\n",
    "        allowed_vy.append(vy)\n",
    "        vykbounds.append(kbounds)\n",
    "\n",
    "for vx in range(vxmin, vxmax+1):\n",
    "    kbounds = kxbounds(vx)\n",
    "    if kbounds[0] <= kbounds[1]:\n",
    "        allowed_vx.append(vx)\n",
    "        vxkbounds.append(kbounds)"
   ]
  },
  {
   "cell_type": "code",
   "execution_count": 158,
   "metadata": {},
   "outputs": [],
   "source": [
    "solutions = []\n",
    "\n",
    "for vx, kx in zip(allowed_vx, vxkbounds):\n",
    "    for vy, ky in zip(allowed_vy, vykbounds):\n",
    "        if ranges_intersect(kx, ky):\n",
    "            solutions.append([vx,vy])"
   ]
  },
  {
   "cell_type": "code",
   "execution_count": 159,
   "metadata": {},
   "outputs": [
    {
     "data": {
      "text/plain": [
       "5050"
      ]
     },
     "execution_count": 159,
     "metadata": {},
     "output_type": "execute_result"
    }
   ],
   "source": [
    "#part 1\n",
    "max(v[1]*(v[1]+1)//2 for v in solutions)"
   ]
  },
  {
   "cell_type": "code",
   "execution_count": 160,
   "metadata": {},
   "outputs": [
    {
     "data": {
      "text/plain": [
       "2219"
      ]
     },
     "execution_count": 160,
     "metadata": {},
     "output_type": "execute_result"
    }
   ],
   "source": [
    "#part 2\n",
    "len(solutions)"
   ]
  },
  {
   "cell_type": "code",
   "execution_count": null,
   "metadata": {},
   "outputs": [],
   "source": [
    "a = []"
   ]
  }
 ],
 "metadata": {
  "kernelspec": {
   "display_name": "Python 3",
   "language": "python",
   "name": "python3"
  },
  "language_info": {
   "codemirror_mode": {
    "name": "ipython",
    "version": 3
   },
   "file_extension": ".py",
   "mimetype": "text/x-python",
   "name": "python",
   "nbconvert_exporter": "python",
   "pygments_lexer": "ipython3",
   "version": "3.8.10"
  }
 },
 "nbformat": 4,
 "nbformat_minor": 4
}
