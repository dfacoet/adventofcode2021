{
 "cells": [
  {
   "cell_type": "code",
   "execution_count": 3,
   "metadata": {},
   "outputs": [],
   "source": [
    "import copy"
   ]
  },
  {
   "cell_type": "code",
   "execution_count": 4,
   "metadata": {},
   "outputs": [],
   "source": [
    "with open('day12.txt') as f:\n",
    "    cavelinks = [line.rstrip().split('-') for line in f]"
   ]
  },
  {
   "cell_type": "code",
   "execution_count": 20,
   "metadata": {},
   "outputs": [],
   "source": [
    "class Graph:\n",
    "    def __init__(self, edges):\n",
    "        self.nodes = list(set([x for y in edges for x in y]))\n",
    "        self.edges = edges\n",
    "        self.update_neighbours()\n",
    "\n",
    "        \n",
    "    def update_neighbours(self):\n",
    "        self.neighbours = dict([[n,[]] for n in self.nodes])\n",
    "        for e in self.edges:\n",
    "            self.neighbours[e[0]].append(e[1])\n",
    "            self.neighbours[e[1]].append(e[0])\n",
    "    \n",
    "    def count_paths(self, start='start', neighbours=None, maxvisits=1, visits=None, thispath=''):\n",
    "        thispath = ' '.join((thispath, start))\n",
    "        if neighbours is None:\n",
    "            neighbours = self.neighbours\n",
    "        \n",
    "        if visits is None:\n",
    "            visits = dict([n, 0] for n in self.nodes)\n",
    "            visits['start'] = maxvisits\n",
    "            #visits['end'] = maxvisits\n",
    "        visits[start] += 1\n",
    "        \n",
    "        if start == 'end':\n",
    "            print(\"!!!\", thispath)\n",
    "            return 1\n",
    "        if len(neighbours[start]) == 0:\n",
    "            print(\"XXX\", thispath)\n",
    "            return 0\n",
    "        \n",
    "        newpaths = 0\n",
    "        nneighbours = copy.deepcopy(neighbours)\n",
    "        if start.islower():\n",
    "            for c in nneighbours.pop(start):\n",
    "                nneighbours[c].remove(start)\n",
    "        for n in neighbours[start]:\n",
    "            newpaths += self.count_paths(n, nneighbours, maxvisits, visits, thispath)\n",
    "        return newpaths\n",
    "\n",
    "    def count_paths2(self, start='start', visits=None, thispath=''):\n",
    "        thispath = ' '.join((thispath, start))\n",
    "        \n",
    "        if visits is None:\n",
    "            visits = dict([n,0] for n in self.nodes)\n",
    "        if start.islower():\n",
    "            visits[start] += 1\n",
    "        \n",
    "        if start == 'end':\n",
    "            print('!!! '+thispath)\n",
    "            return 1\n",
    "        \n",
    "        candouble = max(visits.values()) < 2\n",
    "        if candouble:\n",
    "            accessible_neighbours = [x for x in self.neighbours[start] if x!='start']\n",
    "        else:\n",
    "            accessible_neighbours = [x for x in self.neighbours[start] if x!='start' and visits[x]==0]\n",
    "        \n",
    "        if len(accessible_neighbours) == 0:\n",
    "            print('XXX '+thispath)\n",
    "            return 0\n",
    "\n",
    "        newpaths = 0\n",
    "        for n in accessible_neighbours:\n",
    "            newpaths += self.count_paths2(n, visits, thispath)\n",
    "        return newpaths\n",
    "    \n",
    "    \n",
    "    "
   ]
  },
  {
   "cell_type": "code",
   "execution_count": 21,
   "metadata": {},
   "outputs": [
    {
     "name": "stdout",
     "output_type": "stream",
     "text": [
      "!!!  start A c A b A end\n",
      "XXX  start A c A b d\n",
      "!!!  start A c A b end\n",
      "!!!  start A c A end\n",
      "!!!  start A b A c A end\n",
      "!!!  start A b A end\n",
      "XXX  start A b d\n",
      "!!!  start A b end\n",
      "!!!  start A end\n",
      "!!!  start b A c A end\n",
      "!!!  start b A end\n",
      "XXX  start b d\n",
      "!!!  start b end\n"
     ]
    },
    {
     "data": {
      "text/plain": [
       "10"
      ]
     },
     "execution_count": 21,
     "metadata": {},
     "output_type": "execute_result"
    }
   ],
   "source": [
    "smalldata=\"\"\"start-A\n",
    "start-b\n",
    "A-c\n",
    "A-b\n",
    "b-d\n",
    "A-end\n",
    "b-end\"\"\"\n",
    "\n",
    "smallcave = Graph([s.split('-') for s in smalldata.split('\\n')])\n",
    "smallcave.count_paths()"
   ]
  },
  {
   "cell_type": "code",
   "execution_count": 19,
   "metadata": {},
   "outputs": [
    {
     "name": "stdout",
     "output_type": "stream",
     "text": [
      "!!!  start A c A c A b A end\n",
      "XXX  start A c A c A b d\n",
      "!!!  start A c A c A b end\n",
      "!!!  start A c A c A end\n",
      "XXX  start A c A b A\n",
      "!!!  start A c A end\n",
      "XXX  start A b A\n",
      "!!!  start A end\n",
      "XXX  start b A\n"
     ]
    },
    {
     "data": {
      "text/plain": [
       "5"
      ]
     },
     "execution_count": 19,
     "metadata": {},
     "output_type": "execute_result"
    }
   ],
   "source": [
    "smallcave.count_paths2()"
   ]
  },
  {
   "cell_type": "code",
   "execution_count": 87,
   "metadata": {},
   "outputs": [],
   "source": [
    "caves = Graph(cavelinks)"
   ]
  },
  {
   "cell_type": "code",
   "execution_count": 88,
   "metadata": {},
   "outputs": [
    {
     "data": {
      "text/plain": [
       "3713"
      ]
     },
     "execution_count": 88,
     "metadata": {},
     "output_type": "execute_result"
    }
   ],
   "source": [
    "caves.count_paths()"
   ]
  },
  {
   "cell_type": "code",
   "execution_count": 100,
   "metadata": {},
   "outputs": [
    {
     "data": {
      "text/plain": [
       "45780"
      ]
     },
     "execution_count": 100,
     "metadata": {},
     "output_type": "execute_result"
    }
   ],
   "source": [
    "caves.count_paths(maxvisits=2)"
   ]
  },
  {
   "cell_type": "code",
   "execution_count": null,
   "metadata": {},
   "outputs": [],
   "source": []
  }
 ],
 "metadata": {
  "kernelspec": {
   "display_name": "Python 3",
   "language": "python",
   "name": "python3"
  },
  "language_info": {
   "codemirror_mode": {
    "name": "ipython",
    "version": 3
   },
   "file_extension": ".py",
   "mimetype": "text/x-python",
   "name": "python",
   "nbconvert_exporter": "python",
   "pygments_lexer": "ipython3",
   "version": "3.8.10"
  }
 },
 "nbformat": 4,
 "nbformat_minor": 4
}
