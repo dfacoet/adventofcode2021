{
 "cells": [
  {
   "cell_type": "code",
   "execution_count": 29,
   "metadata": {},
   "outputs": [],
   "source": [
    "import numpy as np"
   ]
  },
  {
   "cell_type": "code",
   "execution_count": 34,
   "metadata": {},
   "outputs": [],
   "source": [
    "data = np.genfromtxt('day3.txt', delimiter=[1]*12, dtype=int)"
   ]
  },
  {
   "cell_type": "code",
   "execution_count": 35,
   "metadata": {},
   "outputs": [],
   "source": [
    "def ar2bin(a):\n",
    "    k = len(a)\n",
    "    return a[::-1]@2**np.arange(k)\n",
    "\n",
    "def find_mostcommon(a, eps=None):\n",
    "    n = len(a)\n",
    "    if eps is None:\n",
    "        eps = 1/(10*n)\n",
    "    return np.rint(a.sum(axis=0)/n+eps).astype(int)"
   ]
  },
  {
   "cell_type": "code",
   "execution_count": 36,
   "metadata": {},
   "outputs": [
    {
     "name": "stdout",
     "output_type": "stream",
     "text": [
      "2972336\n"
     ]
    }
   ],
   "source": [
    "mostcommon = find_mostcommon(data)\n",
    "\n",
    "gamma = ar2bin(mostcommon)\n",
    "epsilon = ar2bin(1-mostcommon)\n",
    "\n",
    "print(gamma*epsilon)"
   ]
  },
  {
   "cell_type": "code",
   "execution_count": 37,
   "metadata": {},
   "outputs": [
    {
     "name": "stdout",
     "output_type": "stream",
     "text": [
      "3368358\n"
     ]
    }
   ],
   "source": [
    "o2gen = np.copy(data)\n",
    "k = 0\n",
    "while len(o2gen)>1:\n",
    "    o2m = find_mostcommon(o2gen)\n",
    "    o2gen = o2gen[o2gen[:,k]==o2m[k]]\n",
    "    k+=1\n",
    "    \n",
    "scrub = np.copy(data)\n",
    "k = 0\n",
    "while len(scrub)>1:\n",
    "    scm = find_mostcommon(scrub)\n",
    "    scrub = scrub[scrub[:,k]!=scm[k]]\n",
    "    k+=1\n",
    "    \n",
    "print(ar2bin(o2gen[0])*ar2bin(scrub[0]))"
   ]
  }
 ],
 "metadata": {
  "kernelspec": {
   "display_name": "Python 3",
   "language": "python",
   "name": "python3"
  },
  "language_info": {
   "codemirror_mode": {
    "name": "ipython",
    "version": 3
   },
   "file_extension": ".py",
   "mimetype": "text/x-python",
   "name": "python",
   "nbconvert_exporter": "python",
   "pygments_lexer": "ipython3",
   "version": "3.8.10"
  }
 },
 "nbformat": 4,
 "nbformat_minor": 4
}
