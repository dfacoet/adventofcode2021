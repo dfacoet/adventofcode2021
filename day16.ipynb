{
 "cells": [
  {
   "cell_type": "code",
   "execution_count": 1,
   "metadata": {},
   "outputs": [],
   "source": [
    "import math"
   ]
  },
  {
   "cell_type": "code",
   "execution_count": 2,
   "metadata": {},
   "outputs": [],
   "source": [
    "with open('day16.txt') as f:\n",
    "    data = f.readline()"
   ]
  },
  {
   "cell_type": "code",
   "execution_count": 3,
   "metadata": {},
   "outputs": [],
   "source": [
    "def hex2bin(hstring):\n",
    "    return ''.join([f\"{int(c,16):04b}\" for c in hstring])\n",
    "\n",
    "class GetBits:\n",
    "    def get_nbits(self, n, asstring=True):\n",
    "        nbits = []\n",
    "        for _ in range(n):\n",
    "            try:\n",
    "                nbits.append(self.bits.pop(0))\n",
    "            except IndexError: #if ran out of bits, just don't append them\n",
    "                pass\n",
    "        if asstring:\n",
    "            return ''.join(nbits)\n",
    "        else:\n",
    "            return nbits\n",
    "\n",
    "class Packet(GetBits):\n",
    "    def __init__(self, lbits):\n",
    "        self.bits = lbits\n",
    "        self.ver = int(self.get_nbits(3),2)\n",
    "        self.tid = int(self.get_nbits(3),2)\n",
    "        self.subpackets = []\n",
    "        \n",
    "        if self.tid == 4:\n",
    "            value = ''\n",
    "            nextblock = 1\n",
    "            while nextblock:\n",
    "                nextblock = int(self.get_nbits(1))\n",
    "                value += self.get_nbits(4)\n",
    "            self.value = int(value, 2)\n",
    "        else:\n",
    "            if int(self.get_nbits(1)):\n",
    "                #next 11 bits = number of subpackets\n",
    "                n_subpack = int(self.get_nbits(11), 2)\n",
    "                self.subpackets += [Packet(self.bits) for _ in range(n_subpack)]\n",
    "            else:\n",
    "                #next 15 bits = total length of subpackets\n",
    "                n_subbits = int(self.get_nbits(15), 2)\n",
    "                subbits = self.get_nbits(n_subbits, asstring=False)\n",
    "                while len(subbits) > 0:\n",
    "                    self.subpackets.append(Packet(subbits))\n",
    "    \n",
    "    def sum_ver(self):\n",
    "        return self.ver + sum(p.sum_ver() for p in self.subpackets)\n",
    "    \n",
    "    def evaluate(self):\n",
    "        if self.tid == 4:\n",
    "            return self.value\n",
    "        subvals = [p.evaluate() for p in self.subpackets]\n",
    "        if self.tid < 4:\n",
    "            return opdict[self.tid](subvals)\n",
    "        if self.tid == 5:\n",
    "            return int(subvals[0]>subvals[1])\n",
    "        if self.tid == 6:\n",
    "            return int(subvals[0]<subvals[1])\n",
    "        if self.tid == 7:\n",
    "            return int(subvals[0]==subvals[1])\n",
    "\n",
    "        \n",
    "opdict = {0: sum, 1: math.prod, 2: min, 3:max}\n",
    "\n",
    "\n",
    "class BITS(GetBits):\n",
    "    def __init__(self, hexstring):\n",
    "        self.hexstring = hexstring\n",
    "        self.binstring = hex2bin(self.hexstring)\n",
    "        self.packets = Packet(list(self.binstring))\n"
   ]
  },
  {
   "cell_type": "code",
   "execution_count": 4,
   "metadata": {},
   "outputs": [],
   "source": [
    "msg = BITS(data)"
   ]
  },
  {
   "cell_type": "code",
   "execution_count": 5,
   "metadata": {},
   "outputs": [
    {
     "data": {
      "text/plain": [
       "897"
      ]
     },
     "execution_count": 5,
     "metadata": {},
     "output_type": "execute_result"
    }
   ],
   "source": [
    "msg.packets.sum_ver()"
   ]
  },
  {
   "cell_type": "code",
   "execution_count": 6,
   "metadata": {},
   "outputs": [
    {
     "data": {
      "text/plain": [
       "9485076995911"
      ]
     },
     "execution_count": 6,
     "metadata": {},
     "output_type": "execute_result"
    }
   ],
   "source": [
    "msg.packets.evaluate()"
   ]
  }
 ],
 "metadata": {
  "kernelspec": {
   "display_name": "Python 3",
   "language": "python",
   "name": "python3"
  },
  "language_info": {
   "codemirror_mode": {
    "name": "ipython",
    "version": 3
   },
   "file_extension": ".py",
   "mimetype": "text/x-python",
   "name": "python",
   "nbconvert_exporter": "python",
   "pygments_lexer": "ipython3",
   "version": "3.8.10"
  }
 },
 "nbformat": 4,
 "nbformat_minor": 4
}
