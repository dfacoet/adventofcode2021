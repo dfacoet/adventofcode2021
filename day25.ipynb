{
 "cells": [
  {
   "cell_type": "code",
   "execution_count": 158,
   "metadata": {},
   "outputs": [],
   "source": [
    "from copy import deepcopy"
   ]
  },
  {
   "cell_type": "code",
   "execution_count": 87,
   "metadata": {},
   "outputs": [],
   "source": [
    "with open('day25.txt') as f:\n",
    "    floorl = [l.rstrip() for l in f.readlines()]\n",
    "\n",
    "floor = [list(x) for x in floorl]"
   ]
  },
  {
   "cell_type": "code",
   "execution_count": 307,
   "metadata": {},
   "outputs": [],
   "source": [
    "class Periodic(list):\n",
    "    def __getitem__(self, idx):\n",
    "        return super().__getitem__(idx % len(self))\n",
    "\n",
    "\n",
    "class Cucumbers:\n",
    "    def __init__(self, floormap):\n",
    "        self.grid = deepcopy(floormap) #Periodic([Periodic(x) for x in floormap])\n",
    "        self.east = []\n",
    "        self.south = []\n",
    "        self.track_all()\n",
    "\n",
    "\n",
    "    def track_all(self):\n",
    "        for x, row in enumerate(self.grid):\n",
    "            for y, c in enumerate(row):\n",
    "                if c=='>':\n",
    "                    self.east.append([x,y])\n",
    "                if c=='v':\n",
    "                    self.south.append([x,y])\n",
    "                    \n",
    "    def step(self):\n",
    "        has_moved = False\n",
    "        new_grid = deepcopy(self.grid)\n",
    "        for x, row in enumerate(self.grid):\n",
    "            for y, c in enumerate(row):\n",
    "                yp = (y+1) % self.ly\n",
    "                if c=='>':\n",
    "                    if self.grid[x][yp] == '.':\n",
    "                        new_grid[x][y] = '.'\n",
    "                        new_grid[x][yp] = '>'\n",
    "                        has_moved = True\n",
    "        self.grid = new_grid\n",
    "        \n",
    "        new_grid = deepcopy(self.grid)\n",
    "        for xn, row in enumerate(self.grid[::-1]):\n",
    "            x = self.lx - xn - 1\n",
    "            xp = (x+1) % self.lx\n",
    "            for y, c in enumerate(row):\n",
    "                if c=='v':\n",
    "                    if self.grid[xp][y] == '.':\n",
    "                        new_grid[x][y] = '.'\n",
    "                        new_grid[xp][y] = 'v'\n",
    "                        has_moved = True\n",
    "        self.grid = new_grid\n",
    "        return has_moved\n",
    "    \n",
    "    def run(self):\n",
    "        k = 0\n",
    "        while self.step():\n",
    "            k += 1\n",
    "        return k+1\n",
    "\n",
    "    \n",
    "    @property\n",
    "    def lx(self):\n",
    "        return len(self.grid)\n",
    "    \n",
    "    @property\n",
    "    def ly(self):\n",
    "        return len(self.grid[0])\n",
    "    \n",
    "    def print(self):\n",
    "        for l in self.grid:\n",
    "            print(''.join(l))"
   ]
  },
  {
   "cell_type": "code",
   "execution_count": 311,
   "metadata": {},
   "outputs": [],
   "source": [
    "herds = Cucumbers(floor)"
   ]
  },
  {
   "cell_type": "code",
   "execution_count": 312,
   "metadata": {},
   "outputs": [
    {
     "data": {
      "text/plain": [
       "277"
      ]
     },
     "execution_count": 312,
     "metadata": {},
     "output_type": "execute_result"
    }
   ],
   "source": [
    "herds.run()"
   ]
  },
  {
   "cell_type": "code",
   "execution_count": 309,
   "metadata": {},
   "outputs": [],
   "source": [
    "example = \"\"\"v...>>.vv>\n",
    ".vv>>.vv..\n",
    ">>.>v>...v\n",
    ">>v>>.>.v.\n",
    "v>v.vv.v..\n",
    ">.>>..v...\n",
    ".vv..>.>v.\n",
    "v.v..>>v.v\n",
    "....v..v.>\"\"\"\n",
    "\n",
    "example = \"\"\"v...>>.vv>\n",
    ".vv>>.vv..\n",
    ">>.>v>...v\n",
    ">>v>>.>.v.\n",
    "v>v.vv.v..\n",
    ">.>>..v...\n",
    ".vv..>.>v.\n",
    "v.v..>>v.v\n",
    "....v..v.>\"\"\"\n",
    "\n",
    "example = [list(x) for x in example.split('\\n')]\n",
    "\n",
    "exherd = Cucumbers(example)"
   ]
  },
  {
   "cell_type": "code",
   "execution_count": 310,
   "metadata": {},
   "outputs": [
    {
     "data": {
      "text/plain": [
       "58"
      ]
     },
     "execution_count": 310,
     "metadata": {},
     "output_type": "execute_result"
    }
   ],
   "source": [
    "exherd.run()"
   ]
  },
  {
   "cell_type": "code",
   "execution_count": null,
   "metadata": {},
   "outputs": [],
   "source": []
  }
 ],
 "metadata": {
  "kernelspec": {
   "display_name": "Python 3",
   "language": "python",
   "name": "python3"
  },
  "language_info": {
   "codemirror_mode": {
    "name": "ipython",
    "version": 3
   },
   "file_extension": ".py",
   "mimetype": "text/x-python",
   "name": "python",
   "nbconvert_exporter": "python",
   "pygments_lexer": "ipython3",
   "version": "3.8.10"
  }
 },
 "nbformat": 4,
 "nbformat_minor": 4
}
