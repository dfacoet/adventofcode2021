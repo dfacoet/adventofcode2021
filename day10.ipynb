{
 "cells": [
  {
   "cell_type": "code",
   "execution_count": 1,
   "metadata": {},
   "outputs": [],
   "source": [
    "import numpy as np\n",
    "import re"
   ]
  },
  {
   "cell_type": "code",
   "execution_count": 2,
   "metadata": {},
   "outputs": [],
   "source": [
    "with open('day10.txt') as f:\n",
    "    data = f.read().splitlines()"
   ]
  },
  {
   "cell_type": "code",
   "execution_count": 3,
   "metadata": {},
   "outputs": [],
   "source": [
    "opendel = '([{<'\n",
    "closeddel = ')]}>'\n",
    "c2o = dict(zip(closeddel, opendel)) #dictionary mapping closed delimiter to corresponding open delimiter\n",
    "score = dict(zip(closeddel, [3,57,1197,25137]))\n",
    "closedre = '[}\\])>]' # regex pattern to match to check for closed delimiter\n",
    "\n",
    "\n",
    "def check_corrupt(s, return_score=True):\n",
    "    m = re.search(closedre, s)\n",
    "    if m:\n",
    "        k, first_closed_del = m.start(), m.group() # position and type of delimiter found\n",
    "        if s[k-1] == c2o[first_closed_del]:\n",
    "            return check_corrupt(s[:k-1]+s[k+1:], return_score)\n",
    "        if return_score:\n",
    "            return score[first_closed_del]\n",
    "        else:\n",
    "            return True\n",
    "    return 0"
   ]
  },
  {
   "cell_type": "code",
   "execution_count": 4,
   "metadata": {},
   "outputs": [
    {
     "data": {
      "text/plain": [
       "436497"
      ]
     },
     "execution_count": 4,
     "metadata": {},
     "output_type": "execute_result"
    }
   ],
   "source": [
    "sum([check_corrupt(d) for d in data])"
   ]
  },
  {
   "cell_type": "code",
   "execution_count": 5,
   "metadata": {},
   "outputs": [],
   "source": [
    "clean_data = [d for d in data if not(check_corrupt(d, return_score=False))]"
   ]
  },
  {
   "cell_type": "code",
   "execution_count": 6,
   "metadata": {},
   "outputs": [],
   "source": [
    "openre = '[(\\[{<]' # regex pattern to match to check for closed delimiter\n",
    "o2c = dict(zip(opendel, closeddel)) #dictionary mapping closed delimiter to corresponding open delimiter\n",
    "\n",
    "\n",
    "def last_unmatched_open(s):\n",
    "    m = re.search(openre, s[::-1])\n",
    "    if m:\n",
    "        if m.start()==0: #last character is open delimiter\n",
    "            return m.group()\n",
    "        k = len(s)-1-m.start()\n",
    "        return last_unmatched_open(s[:k]+s[k+2:]) # s[k+1] must be the corresponding closed\n",
    "    return None\n",
    "\n",
    "def complete_line(s):\n",
    "    completion = ''\n",
    "    last_unmatch = last_unmatched_open(s)\n",
    "    while last_unmatch is not None:\n",
    "        completion += o2c[last_unmatch]\n",
    "        last_unmatch = last_unmatched_open(s+completion)\n",
    "    return completion\n",
    "\n",
    "score2 = dict(zip(closeddel, [1,2,3,4]))\n",
    "\n",
    "def compute_completion_score(comp_string):\n",
    "    return sum((5**k)*score2[c] for k, c in enumerate(comp_string[::-1]))"
   ]
  },
  {
   "cell_type": "code",
   "execution_count": 7,
   "metadata": {},
   "outputs": [],
   "source": [
    "compscores = [compute_completion_score(complete_line(s)) for s in clean_data]"
   ]
  },
  {
   "cell_type": "code",
   "execution_count": 8,
   "metadata": {},
   "outputs": [
    {
     "data": {
      "text/plain": [
       "2377613374"
      ]
     },
     "execution_count": 8,
     "metadata": {},
     "output_type": "execute_result"
    }
   ],
   "source": [
    "sorted(compscores)[len(compscores)//2]"
   ]
  }
 ],
 "metadata": {
  "kernelspec": {
   "display_name": "Python 3",
   "language": "python",
   "name": "python3"
  },
  "language_info": {
   "codemirror_mode": {
    "name": "ipython",
    "version": 3
   },
   "file_extension": ".py",
   "mimetype": "text/x-python",
   "name": "python",
   "nbconvert_exporter": "python",
   "pygments_lexer": "ipython3",
   "version": "3.8.10"
  }
 },
 "nbformat": 4,
 "nbformat_minor": 4
}
