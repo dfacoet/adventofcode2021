{
 "cells": [
  {
   "cell_type": "code",
   "execution_count": 21,
   "metadata": {},
   "outputs": [],
   "source": [
    "from functools import cached_property, reduce\n",
    "from itertools import product as iterprod\n",
    "import numpy as np"
   ]
  },
  {
   "cell_type": "code",
   "execution_count": 297,
   "metadata": {},
   "outputs": [],
   "source": [
    "diagmats = [np.diag([1,1,1]), np.diag([1,-1,-1]), np.diag([-1,1,-1]), np.diag([-1,-1,1])]\n",
    "cyclmats = [np.diag([1,1,1]),\n",
    "        np.array([[0,-1,0],[1,0,0],[0,0,1]]),\n",
    "        np.array([[1,0,0],[0,0,-1],[0,1,0]]),\n",
    "        np.array([[0,0,-1],[0,1,0],[1,0,0]]),\n",
    "        np.array([[0,0,1],[1,0,0],[0,1,0]]),\n",
    "        np.array([[0,1,0],[0,0,1],[1,0,0]])\n",
    "       ]\n",
    "\n",
    "rotations = [a@b for a, b in iterprod(diagmats,cyclmats)]\n",
    "\n",
    "def find_rotation(v1, v2):\n",
    "    for k, r in enumerate(rotations):\n",
    "        if np.all(v1 == r@v2):\n",
    "            return k, r\n",
    "    else:\n",
    "        raise ValueError(\"The two vectors are not related\")\n",
    "\n",
    "class Scanner:\n",
    "    def __init__(self, beacons, k=None):\n",
    "        self.id = k\n",
    "        self.b = np.asarray(beacons, dtype=int)\n",
    "        self.rel_dist\n",
    "        self.minb = 12 #minimum number of overlapping beacons to declare overlap\n",
    "        if k == 0:\n",
    "            self.s = np.array([0,0,0])\n",
    "            self.rk = 0   \n",
    "            \n",
    "    @cached_property\n",
    "    def rel_dist(self):\n",
    "        return ((np.expand_dims(self.b,1)-np.expand_dims(self.b,0))**2).sum(axis=2)\n",
    "    \n",
    "    @property\n",
    "    def nb(self):\n",
    "        return self.b.shape[0]\n",
    "    \n",
    "    @property\n",
    "    def r(self):\n",
    "        return rotations[self.rk]\n",
    "    \n",
    "    def intersect(self, other):\n",
    "        # in principle this is not enough: should count multiplicity\n",
    "        return np.intersect1d(self.rel_dist.flatten(), other.rel_dist.flatten())[1:]   #remove first entry (0)\n",
    "    \n",
    "    def find_relation(self, other):\n",
    "        common_dist = self.intersect(other) # relative distances between beacons measured by both self and other\n",
    "        if len(common_dist) >= self.minb*(self.minb-1)//2:\n",
    "            # match the common beacons\n",
    "            common_i1 = reduce(np.union1d,(np.where(self.rel_dist == cd)[0] for cd in common_dist))\n",
    "            common_i2 = reduce(np.union1d,(np.where(other.rel_dist == cd)[0] for cd in common_dist))\n",
    "            beaconmap = []\n",
    "            dset1 = [set(self.rel_dist[c][common_i1]) for c in common_i1]\n",
    "            dset2 = [set(other.rel_dist[c][common_i2]) for c in common_i2]\n",
    "            print(\"###find_relation###\", len(common_dist), len(common_i1), len(common_i2), len(dset1), len(dset2))\n",
    "            for ci1, drow1 in zip(common_i1, dset1):     # Can make it much shorter - I'm never using more than two! -need to return common_i2\n",
    "                for ci2, drow2 in zip(common_i2, dset2):\n",
    "                    if drow1 == drow2:\n",
    "                        beaconmap.append([ci1,ci2])\n",
    "            beaconmap = np.array(beaconmap)\n",
    "            print(beaconmap)\n",
    "            # find the relative distance and orientation of the scanners\n",
    "            dself = self.b[beaconmap[0,0]]-self.b[beaconmap[1,0]]\n",
    "            dother = other.b[beaconmap[0,1]]-other.b[beaconmap[1,1]]\n",
    "            rot_id, r = find_rotation(dself, dother)\n",
    "            sk = self.b[beaconmap[0,0]] - r @ other.b[beaconmap[0,1]] #used the first, they are all the same\n",
    "            other.s = sk\n",
    "            other.rk = rot_id\n",
    "            return beaconmap\n",
    "        else:\n",
    "            raise ValueError(\"The two scanners do not have enough overlap\")\n",
    "        \n",
    "    def lock(self, other):\n",
    "        beaconmap = self.find_relation(other)\n",
    "\n",
    "        mask = np.ones(other.nb, dtype=bool)\n",
    "        mask[beaconmap[:,1]] = False   # mask to select the beacons of other that are not in self \n",
    "        \n",
    "        new_c = other.s + other.b[mask] @ other.r.T\n",
    "        self.b = np.vstack((self.b, new_c))\n",
    "        \n",
    "        # update distance matrix\n",
    "        del self.rel_dist\n",
    "        self.rel_dist"
   ]
  },
  {
   "cell_type": "code",
   "execution_count": 298,
   "metadata": {},
   "outputs": [],
   "source": [
    "data = []\n",
    "\n",
    "with open('day19.txt') as f:\n",
    "    for l in f.readlines():\n",
    "        if l[:3] == '---':\n",
    "            scannerdata = []\n",
    "        elif l == '\\n':\n",
    "            data.append(np.array(scannerdata, dtype=int))\n",
    "        else:\n",
    "            scannerdata.append(l.rstrip().split(','))"
   ]
  },
  {
   "cell_type": "code",
   "execution_count": 299,
   "metadata": {},
   "outputs": [],
   "source": [
    "scanners = [Scanner(d, k) for k,d in enumerate(data)]\n",
    "\n",
    "s = scanners.pop(0)"
   ]
  },
  {
   "cell_type": "code",
   "execution_count": 300,
   "metadata": {},
   "outputs": [
    {
     "data": {
      "text/plain": [
       "[4, 19, 22, 30]"
      ]
     },
     "execution_count": 300,
     "metadata": {},
     "output_type": "execute_result"
    }
   ],
   "source": [
    "[q.id for q in scanners if len(s.intersect(q))>65]"
   ]
  },
  {
   "cell_type": "code",
   "execution_count": 301,
   "metadata": {},
   "outputs": [],
   "source": [
    "def find_overlapping():\n",
    "    for k, q in enumerate(scanners):\n",
    "        if len(s.intersect(q)) >= 66:\n",
    "            return scanners.pop(k)"
   ]
  },
  {
   "cell_type": "code",
   "execution_count": 302,
   "metadata": {},
   "outputs": [
    {
     "name": "stdout",
     "output_type": "stream",
     "text": [
      "35 scanners left, 26 beacons found\n",
      "matched scanner #4\n",
      "###find_relation### 66 12 12 12 12\n",
      "[[ 0  5]\n",
      " [ 2  3]\n",
      " [ 5 19]\n",
      " [ 6  7]\n",
      " [ 9 18]\n",
      " [11  1]\n",
      " [13  6]\n",
      " [16 21]\n",
      " [17 20]\n",
      " [20 16]\n",
      " [21 12]\n",
      " [23 23]]\n",
      "34 scanners left, 39 beacons found\n",
      "matched scanner #19\n",
      "###find_relation### 66 12 12 12 12\n",
      "[[ 0 12]\n",
      " [ 4 24]\n",
      " [ 5 21]\n",
      " [ 7 14]\n",
      " [ 8  7]\n",
      " [ 9  3]\n",
      " [12 15]\n",
      " [15  4]\n",
      " [16 10]\n",
      " [21 19]\n",
      " [22 20]\n",
      " [23  5]]\n",
      "33 scanners left, 52 beacons found\n",
      "matched scanner #10\n",
      "###find_relation### 66 12 12 12 12\n",
      "[[ 0  3]\n",
      " [ 5 16]\n",
      " [ 8 25]\n",
      " [12 23]\n",
      " [21 18]\n",
      " [22  1]\n",
      " [41 12]\n",
      " [42 20]\n",
      " [43  8]\n",
      " [45 17]\n",
      " [46  7]\n",
      " [51 22]]\n",
      "32 scanners left, 66 beacons found\n",
      "matched scanner #18\n",
      "###find_relation### 66 12 12 12 12\n",
      "[[ 4 21]\n",
      " [ 7 15]\n",
      " [ 8 24]\n",
      " [12 14]\n",
      " [15 11]\n",
      " [22 10]\n",
      " [39  2]\n",
      " [41 23]\n",
      " [44  8]\n",
      " [45 25]\n",
      " [50 16]\n",
      " [51 12]]\n",
      "31 scanners left, 80 beacons found\n",
      "matched scanner #1\n",
      "###find_relation### 66 12 12 12 12\n",
      "[[ 4 15]\n",
      " [ 7 21]\n",
      " [15  3]\n",
      " [39  0]\n",
      " [44 22]\n",
      " [50 12]\n",
      " [69 14]\n",
      " [70  9]\n",
      " [71 23]\n",
      " [72  6]\n",
      " [74 16]\n",
      " [75  5]]\n",
      "30 scanners left, 94 beacons found\n",
      "matched scanner #5\n",
      "###find_relation### 66 12 12 12 12\n",
      "[[69 18]\n",
      " [70  3]\n",
      " [71  1]\n",
      " [72 19]\n",
      " [74  8]\n",
      " [75 22]\n",
      " [81 24]\n",
      " [82 13]\n",
      " [83 26]\n",
      " [84 20]\n",
      " [90 25]\n",
      " [93  4]]\n",
      "29 scanners left, 109 beacons found\n",
      "matched scanner #8\n",
      "###find_relation### 107 19 18 19 18\n",
      "[]\n"
     ]
    },
    {
     "ename": "IndexError",
     "evalue": "too many indices for array: array is 1-dimensional, but 2 were indexed",
     "output_type": "error",
     "traceback": [
      "\u001b[0;31m---------------------------------------------------------------------------\u001b[0m",
      "\u001b[0;31mIndexError\u001b[0m                                Traceback (most recent call last)",
      "\u001b[0;32m<ipython-input-302-fc37a477bfb6>\u001b[0m in \u001b[0;36m<module>\u001b[0;34m\u001b[0m\n\u001b[1;32m      3\u001b[0m     \u001b[0mq\u001b[0m \u001b[0;34m=\u001b[0m \u001b[0mfind_overlapping\u001b[0m\u001b[0;34m(\u001b[0m\u001b[0;34m)\u001b[0m\u001b[0;34m\u001b[0m\u001b[0;34m\u001b[0m\u001b[0m\n\u001b[1;32m      4\u001b[0m     \u001b[0mprint\u001b[0m\u001b[0;34m(\u001b[0m\u001b[0;34mf\"matched scanner #{q.id}\"\u001b[0m\u001b[0;34m)\u001b[0m\u001b[0;34m\u001b[0m\u001b[0;34m\u001b[0m\u001b[0m\n\u001b[0;32m----> 5\u001b[0;31m     \u001b[0ms\u001b[0m\u001b[0;34m.\u001b[0m\u001b[0mlock\u001b[0m\u001b[0;34m(\u001b[0m\u001b[0mq\u001b[0m\u001b[0;34m)\u001b[0m\u001b[0;34m\u001b[0m\u001b[0;34m\u001b[0m\u001b[0m\n\u001b[0m",
      "\u001b[0;32m<ipython-input-297-0697f851ed41>\u001b[0m in \u001b[0;36mlock\u001b[0;34m(self, other)\u001b[0m\n\u001b[1;32m     71\u001b[0m \u001b[0;34m\u001b[0m\u001b[0m\n\u001b[1;32m     72\u001b[0m     \u001b[0;32mdef\u001b[0m \u001b[0mlock\u001b[0m\u001b[0;34m(\u001b[0m\u001b[0mself\u001b[0m\u001b[0;34m,\u001b[0m \u001b[0mother\u001b[0m\u001b[0;34m)\u001b[0m\u001b[0;34m:\u001b[0m\u001b[0;34m\u001b[0m\u001b[0;34m\u001b[0m\u001b[0m\n\u001b[0;32m---> 73\u001b[0;31m         \u001b[0mbeaconmap\u001b[0m \u001b[0;34m=\u001b[0m \u001b[0mself\u001b[0m\u001b[0;34m.\u001b[0m\u001b[0mfind_relation\u001b[0m\u001b[0;34m(\u001b[0m\u001b[0mother\u001b[0m\u001b[0;34m)\u001b[0m\u001b[0;34m\u001b[0m\u001b[0;34m\u001b[0m\u001b[0m\n\u001b[0m\u001b[1;32m     74\u001b[0m \u001b[0;34m\u001b[0m\u001b[0m\n\u001b[1;32m     75\u001b[0m         \u001b[0mmask\u001b[0m \u001b[0;34m=\u001b[0m \u001b[0mnp\u001b[0m\u001b[0;34m.\u001b[0m\u001b[0mones\u001b[0m\u001b[0;34m(\u001b[0m\u001b[0mother\u001b[0m\u001b[0;34m.\u001b[0m\u001b[0mnb\u001b[0m\u001b[0;34m,\u001b[0m \u001b[0mdtype\u001b[0m\u001b[0;34m=\u001b[0m\u001b[0mbool\u001b[0m\u001b[0;34m)\u001b[0m\u001b[0;34m\u001b[0m\u001b[0;34m\u001b[0m\u001b[0m\n",
      "\u001b[0;32m<ipython-input-297-0697f851ed41>\u001b[0m in \u001b[0;36mfind_relation\u001b[0;34m(self, other)\u001b[0m\n\u001b[1;32m     60\u001b[0m             \u001b[0mprint\u001b[0m\u001b[0;34m(\u001b[0m\u001b[0mbeaconmap\u001b[0m\u001b[0;34m)\u001b[0m\u001b[0;34m\u001b[0m\u001b[0;34m\u001b[0m\u001b[0m\n\u001b[1;32m     61\u001b[0m             \u001b[0;31m# find the relative distance and orientation of the scanners\u001b[0m\u001b[0;34m\u001b[0m\u001b[0;34m\u001b[0m\u001b[0;34m\u001b[0m\u001b[0m\n\u001b[0;32m---> 62\u001b[0;31m             \u001b[0mdself\u001b[0m \u001b[0;34m=\u001b[0m \u001b[0mself\u001b[0m\u001b[0;34m.\u001b[0m\u001b[0mb\u001b[0m\u001b[0;34m[\u001b[0m\u001b[0mbeaconmap\u001b[0m\u001b[0;34m[\u001b[0m\u001b[0;36m0\u001b[0m\u001b[0;34m,\u001b[0m\u001b[0;36m0\u001b[0m\u001b[0;34m]\u001b[0m\u001b[0;34m]\u001b[0m\u001b[0;34m-\u001b[0m\u001b[0mself\u001b[0m\u001b[0;34m.\u001b[0m\u001b[0mb\u001b[0m\u001b[0;34m[\u001b[0m\u001b[0mbeaconmap\u001b[0m\u001b[0;34m[\u001b[0m\u001b[0;36m1\u001b[0m\u001b[0;34m,\u001b[0m\u001b[0;36m0\u001b[0m\u001b[0;34m]\u001b[0m\u001b[0;34m]\u001b[0m\u001b[0;34m\u001b[0m\u001b[0;34m\u001b[0m\u001b[0m\n\u001b[0m\u001b[1;32m     63\u001b[0m             \u001b[0mdother\u001b[0m \u001b[0;34m=\u001b[0m \u001b[0mother\u001b[0m\u001b[0;34m.\u001b[0m\u001b[0mb\u001b[0m\u001b[0;34m[\u001b[0m\u001b[0mbeaconmap\u001b[0m\u001b[0;34m[\u001b[0m\u001b[0;36m0\u001b[0m\u001b[0;34m,\u001b[0m\u001b[0;36m1\u001b[0m\u001b[0;34m]\u001b[0m\u001b[0;34m]\u001b[0m\u001b[0;34m-\u001b[0m\u001b[0mother\u001b[0m\u001b[0;34m.\u001b[0m\u001b[0mb\u001b[0m\u001b[0;34m[\u001b[0m\u001b[0mbeaconmap\u001b[0m\u001b[0;34m[\u001b[0m\u001b[0;36m1\u001b[0m\u001b[0;34m,\u001b[0m\u001b[0;36m1\u001b[0m\u001b[0;34m]\u001b[0m\u001b[0;34m]\u001b[0m\u001b[0;34m\u001b[0m\u001b[0;34m\u001b[0m\u001b[0m\n\u001b[1;32m     64\u001b[0m             \u001b[0mrot_id\u001b[0m\u001b[0;34m,\u001b[0m \u001b[0mr\u001b[0m \u001b[0;34m=\u001b[0m \u001b[0mfind_rotation\u001b[0m\u001b[0;34m(\u001b[0m\u001b[0mdself\u001b[0m\u001b[0;34m,\u001b[0m \u001b[0mdother\u001b[0m\u001b[0;34m)\u001b[0m\u001b[0;34m\u001b[0m\u001b[0;34m\u001b[0m\u001b[0m\n",
      "\u001b[0;31mIndexError\u001b[0m: too many indices for array: array is 1-dimensional, but 2 were indexed"
     ]
    }
   ],
   "source": [
    "while len(scanners) > 0:\n",
    "    print(f\"{len(scanners)} scanners left, {s.nb} beacons found\")\n",
    "    q = find_overlapping()\n",
    "    print(f\"matched scanner #{q.id}\")\n",
    "    s.lock(q)"
   ]
  },
  {
   "cell_type": "code",
   "execution_count": 268,
   "metadata": {},
   "outputs": [
    {
     "data": {
      "text/plain": [
       "array([   4941,    5102,    7765,   12850,   18386,   20901,   23417,\n",
       "         23835,   24253,   26138,   28361,   30541,   32083,   36186,\n",
       "         40453,  595974,  601492,  608009,  625001,  629763,  642386,\n",
       "        663350,  669342,  679371, 1105577, 1105684, 1132309, 1153994,\n",
       "       1258080, 1310950, 1319045, 1323582, 1378242, 1380107, 1436330,\n",
       "       1454281, 1463810, 1476881, 1480520, 1485630, 1513357, 1560347,\n",
       "       1643905, 1649555, 1655361, 1783377, 1812293, 1856904, 1876118,\n",
       "       1956707, 1993741, 2026074, 2062133, 2127989, 2160093, 2169686,\n",
       "       2178637, 2203499, 2245302, 2259646, 2277749, 2297294, 2357534,\n",
       "       2368953, 2369574, 2382728, 2403461, 2439230, 2455124, 2483070,\n",
       "       2488923, 2515629, 2550157, 2550969, 2575979, 2595866, 2661194,\n",
       "       2666213, 2667317, 2779714, 2840538, 3190985, 3357758, 3377409,\n",
       "       3429501, 3731229, 3763894, 3823369, 3981938, 3992781, 4016714,\n",
       "       4054074, 4223403, 4328138, 4391643, 4552910, 4576017, 4904538,\n",
       "       5161502, 5218489, 5400881, 5477354, 5719549, 5732529, 5813048,\n",
       "       5999850, 6351098])"
      ]
     },
     "execution_count": 268,
     "metadata": {},
     "output_type": "execute_result"
    }
   ],
   "source": [
    "s.intersect(q)"
   ]
  },
  {
   "cell_type": "code",
   "execution_count": null,
   "metadata": {},
   "outputs": [],
   "source": []
  }
 ],
 "metadata": {
  "kernelspec": {
   "display_name": "Python 3",
   "language": "python",
   "name": "python3"
  },
  "language_info": {
   "codemirror_mode": {
    "name": "ipython",
    "version": 3
   },
   "file_extension": ".py",
   "mimetype": "text/x-python",
   "name": "python",
   "nbconvert_exporter": "python",
   "pygments_lexer": "ipython3",
   "version": "3.8.10"
  }
 },
 "nbformat": 4,
 "nbformat_minor": 4
}
