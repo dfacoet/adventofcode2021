{
 "cells": [
  {
   "cell_type": "code",
   "execution_count": 233,
   "metadata": {},
   "outputs": [],
   "source": [
    "from functools import cached_property\n",
    "import numpy as np"
   ]
  },
  {
   "cell_type": "code",
   "execution_count": 305,
   "metadata": {},
   "outputs": [],
   "source": [
    "class Scanner:\n",
    "    def __init__(self, beacons, k=None):\n",
    "        self.id = k\n",
    "        self.b = np.asarray(beacons, dtype=int)\n",
    "        self.rel_dist\n",
    "        \n",
    "    \n",
    "    @cached_property\n",
    "    def rel_dist(self):\n",
    "        return np.array([[(b1-b2)**2 for b2 in self.b] for b1 in self.b]).sum(axis=2)\n",
    "    \n",
    "    def intersect(self, other):\n",
    "        return np.intersect1d(self.rel_dist.flatten(), other.rel_dist.flatten())\n",
    "    #try to do it (num)pythonicallY!"
   ]
  },
  {
   "cell_type": "code",
   "execution_count": 306,
   "metadata": {},
   "outputs": [],
   "source": [
    "data = []\n",
    "\n",
    "with open('day19.txt') as f:\n",
    "    for l in f.readlines():\n",
    "        if l[:3] == '---':\n",
    "            scannerdata = []\n",
    "        elif l == '\\n':\n",
    "            data.append(np.array(scannerdata, dtype=int))\n",
    "        else:\n",
    "            scannerdata.append(l.rstrip().split(','))"
   ]
  },
  {
   "cell_type": "code",
   "execution_count": 310,
   "metadata": {},
   "outputs": [],
   "source": [
    "scanners = [Scanner(d, k) for k,d in enumerate(data)]"
   ]
  },
  {
   "cell_type": "code",
   "execution_count": 317,
   "metadata": {},
   "outputs": [
    {
     "data": {
      "text/plain": [
       "[326,\n",
       " 4,\n",
       " 1,\n",
       " 1,\n",
       " 67,\n",
       " 1,\n",
       " 1,\n",
       " 1,\n",
       " 16,\n",
       " 2,\n",
       " 16,\n",
       " 2,\n",
       " 1,\n",
       " 1,\n",
       " 1,\n",
       " 1,\n",
       " 1,\n",
       " 4,\n",
       " 16,\n",
       " 67,\n",
       " 1,\n",
       " 1,\n",
       " 67,\n",
       " 1,\n",
       " 1,\n",
       " 1,\n",
       " 2,\n",
       " 1,\n",
       " 1,\n",
       " 1,\n",
       " 67,\n",
       " 1,\n",
       " 1,\n",
       " 1,\n",
       " 1,\n",
       " 1]"
      ]
     },
     "execution_count": 317,
     "metadata": {},
     "output_type": "execute_result"
    }
   ],
   "source": [
    "[len(scanners[0].intersect(s)) for s in scanners] #if this is 67, there can be 12 satellites overlapping (are they there for sure?)"
   ]
  },
  {
   "cell_type": "code",
   "execution_count": null,
   "metadata": {},
   "outputs": [],
   "source": []
  }
 ],
 "metadata": {
  "kernelspec": {
   "display_name": "Python 3",
   "language": "python",
   "name": "python3"
  },
  "language_info": {
   "codemirror_mode": {
    "name": "ipython",
    "version": 3
   },
   "file_extension": ".py",
   "mimetype": "text/x-python",
   "name": "python",
   "nbconvert_exporter": "python",
   "pygments_lexer": "ipython3",
   "version": "3.8.10"
  }
 },
 "nbformat": 4,
 "nbformat_minor": 4
}
