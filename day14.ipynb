{
 "cells": [
  {
   "cell_type": "code",
   "execution_count": 1,
   "metadata": {},
   "outputs": [],
   "source": [
    "from collections import Counter"
   ]
  },
  {
   "cell_type": "code",
   "execution_count": 2,
   "metadata": {},
   "outputs": [],
   "source": [
    "def loadtxt(fname):\n",
    "    with open(fname) as f:\n",
    "        mytempl = f.readline().strip()\n",
    "        f.readline()\n",
    "        subs = []\n",
    "        for line in f:\n",
    "            subs.append(line.strip().split(' -> '))\n",
    "    return mytempl, subs"
   ]
  },
  {
   "cell_type": "code",
   "execution_count": 3,
   "metadata": {},
   "outputs": [],
   "source": [
    "class Polymer:\n",
    "    def __init__(self, template, rules):\n",
    "        self.template = template\n",
    "        self.formula = template\n",
    "        self.rules = dict(rules)\n",
    "    \n",
    "    def reset(self):\n",
    "        self.formula = self.template\n",
    "    \n",
    "    def replace(self, s):\n",
    "        try:\n",
    "            c = self.rules[s]\n",
    "            return s[0]+c\n",
    "        except KeyError:\n",
    "            return s\n",
    "    \n",
    "    def step(self):\n",
    "        newf = ''\n",
    "        for k in range(len(self.formula)-1):\n",
    "            newf += self.replace(self.formula[k:k+2])\n",
    "        newf += self.formula[-1]\n",
    "        self.formula = newf\n",
    "    \n",
    "    def nsteps(self, n):\n",
    "        for _ in range(n):\n",
    "            self.step()\n",
    "    \n",
    "    @property\n",
    "    def n(self):\n",
    "        return len(self.formula)\n",
    "    \n",
    "    def mostleast(self):\n",
    "        counts = Counter(self.formula).most_common()\n",
    "        most, least = counts[0], counts[-1]\n",
    "        return most[1]-least[1]\n",
    "\n",
    "class SmartPolymer(Polymer):\n",
    "    def __init__(self, *args, **kwargs):\n",
    "        super().__init__(*args, **kwargs)\n",
    "        self.formula2pairs()\n",
    "        self.head = self.formula[0]\n",
    "        self.tail = self.formula[-1]\n",
    "        \n",
    "    def incr_count(self, pair, k=1):\n",
    "        try:\n",
    "            self.pairs[pair] += k\n",
    "        except KeyError:\n",
    "            self.pairs[pair] = k\n",
    "        \n",
    "    def formula2pairs(self):\n",
    "        self.pairs = dict()\n",
    "        for k in range(len(self.formula)-1):\n",
    "            self.incr_count(self.formula[k:k+2])\n",
    "        \n",
    "    def step(self):\n",
    "        oldpairs = self.pairs.copy()\n",
    "        for p in oldpairs:\n",
    "            try:\n",
    "                c = self.rules[p]\n",
    "                self.incr_count(p[0]+c, oldpairs[p])\n",
    "                self.incr_count(c+p[1], oldpairs[p])\n",
    "                self.pairs[p] -= oldpairs[p]\n",
    "                if self.pairs[p] == 0:\n",
    "                    del self.pairs[p]\n",
    "            except KeyError:\n",
    "                pass\n",
    "    \n",
    "    def mostleast(self):\n",
    "        charcounts = dict([[c,0] for c in set(''.join(self.pairs.keys()))])\n",
    "        #charcounts double counts all characters\n",
    "        for p in self.pairs:\n",
    "            charcounts[p[0]] += self.pairs[p]\n",
    "            charcounts[p[1]] += self.pairs[p]\n",
    "        #first and last character \n",
    "        charcounts[self.head] += 1\n",
    "        charcounts[self.tail] += 1\n",
    "        counts = Counter(dict((c, charcounts[c]//2) for c in charcounts)).most_common() #convert to ordered single counts\n",
    "        most, least = counts[0], counts[-1]\n",
    "        return most[1]-least[1]"
   ]
  },
  {
   "cell_type": "code",
   "execution_count": 4,
   "metadata": {},
   "outputs": [],
   "source": [
    "mytempl, subs = loadtxt('day14.txt')\n",
    "\n",
    "poly = Polymer(mytempl, subs)"
   ]
  },
  {
   "cell_type": "code",
   "execution_count": 5,
   "metadata": {},
   "outputs": [
    {
     "data": {
      "text/plain": [
       "2170"
      ]
     },
     "execution_count": 5,
     "metadata": {},
     "output_type": "execute_result"
    }
   ],
   "source": [
    "poly.nsteps(10)\n",
    "poly.mostleast()"
   ]
  },
  {
   "cell_type": "code",
   "execution_count": 6,
   "metadata": {},
   "outputs": [],
   "source": [
    "largepoly = SmartPolymer(mytempl, subs)"
   ]
  },
  {
   "cell_type": "code",
   "execution_count": 7,
   "metadata": {},
   "outputs": [
    {
     "data": {
      "text/plain": [
       "2170"
      ]
     },
     "execution_count": 7,
     "metadata": {},
     "output_type": "execute_result"
    }
   ],
   "source": [
    "largepoly.nsteps(10)\n",
    "largepoly.mostleast()"
   ]
  },
  {
   "cell_type": "code",
   "execution_count": 8,
   "metadata": {},
   "outputs": [
    {
     "data": {
      "text/plain": [
       "2422444761283"
      ]
     },
     "execution_count": 8,
     "metadata": {},
     "output_type": "execute_result"
    }
   ],
   "source": [
    "largepoly.nsteps(30)\n",
    "largepoly.mostleast()"
   ]
  }
 ],
 "metadata": {
  "kernelspec": {
   "display_name": "Python 3",
   "language": "python",
   "name": "python3"
  },
  "language_info": {
   "codemirror_mode": {
    "name": "ipython",
    "version": 3
   },
   "file_extension": ".py",
   "mimetype": "text/x-python",
   "name": "python",
   "nbconvert_exporter": "python",
   "pygments_lexer": "ipython3",
   "version": "3.8.10"
  }
 },
 "nbformat": 4,
 "nbformat_minor": 4
}
